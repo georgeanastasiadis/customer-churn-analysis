{
 "cells": [
  {
   "cell_type": "code",
   "execution_count": 1,
   "id": "a5c4b08c",
   "metadata": {},
   "outputs": [],
   "source": [
    "import numpy as np\n",
    "import pandas as pd\n",
    "from sklearn.ensemble import RandomForestClassifier\n",
    "\n",
    "from sklearn.model_selection import train_test_split"
   ]
  },
  {
   "cell_type": "code",
   "execution_count": 2,
   "id": "69d1cbdb",
   "metadata": {},
   "outputs": [],
   "source": [
    "df = pd.read_csv(r\"Telco.csv\")"
   ]
  },
  {
   "cell_type": "code",
   "execution_count": 3,
   "id": "76af062a",
   "metadata": {},
   "outputs": [],
   "source": [
    "X = df.drop('Churn',axis=1)\n",
    "y = df['Churn']"
   ]
  },
  {
   "cell_type": "code",
   "execution_count": 4,
   "id": "c8d68693",
   "metadata": {},
   "outputs": [
    {
     "data": {
      "text/plain": [
       "(7010, 44)"
      ]
     },
     "execution_count": 4,
     "metadata": {},
     "output_type": "execute_result"
    }
   ],
   "source": [
    "X.shape"
   ]
  },
  {
   "cell_type": "code",
   "execution_count": 5,
   "id": "017c76af",
   "metadata": {},
   "outputs": [],
   "source": [
    "base = RandomForestClassifier()"
   ]
  },
  {
   "cell_type": "code",
   "execution_count": 6,
   "id": "3cdd2748",
   "metadata": {},
   "outputs": [],
   "source": [
    "X_train, X_test, y_train, y_test = train_test_split(X, y, test_size=0.1,random_state=101)"
   ]
  },
  {
   "cell_type": "code",
   "execution_count": 7,
   "id": "4af197e6",
   "metadata": {},
   "outputs": [
    {
     "data": {
      "text/html": [
       "<style>#sk-container-id-1 {color: black;background-color: white;}#sk-container-id-1 pre{padding: 0;}#sk-container-id-1 div.sk-toggleable {background-color: white;}#sk-container-id-1 label.sk-toggleable__label {cursor: pointer;display: block;width: 100%;margin-bottom: 0;padding: 0.3em;box-sizing: border-box;text-align: center;}#sk-container-id-1 label.sk-toggleable__label-arrow:before {content: \"▸\";float: left;margin-right: 0.25em;color: #696969;}#sk-container-id-1 label.sk-toggleable__label-arrow:hover:before {color: black;}#sk-container-id-1 div.sk-estimator:hover label.sk-toggleable__label-arrow:before {color: black;}#sk-container-id-1 div.sk-toggleable__content {max-height: 0;max-width: 0;overflow: hidden;text-align: left;background-color: #f0f8ff;}#sk-container-id-1 div.sk-toggleable__content pre {margin: 0.2em;color: black;border-radius: 0.25em;background-color: #f0f8ff;}#sk-container-id-1 input.sk-toggleable__control:checked~div.sk-toggleable__content {max-height: 200px;max-width: 100%;overflow: auto;}#sk-container-id-1 input.sk-toggleable__control:checked~label.sk-toggleable__label-arrow:before {content: \"▾\";}#sk-container-id-1 div.sk-estimator input.sk-toggleable__control:checked~label.sk-toggleable__label {background-color: #d4ebff;}#sk-container-id-1 div.sk-label input.sk-toggleable__control:checked~label.sk-toggleable__label {background-color: #d4ebff;}#sk-container-id-1 input.sk-hidden--visually {border: 0;clip: rect(1px 1px 1px 1px);clip: rect(1px, 1px, 1px, 1px);height: 1px;margin: -1px;overflow: hidden;padding: 0;position: absolute;width: 1px;}#sk-container-id-1 div.sk-estimator {font-family: monospace;background-color: #f0f8ff;border: 1px dotted black;border-radius: 0.25em;box-sizing: border-box;margin-bottom: 0.5em;}#sk-container-id-1 div.sk-estimator:hover {background-color: #d4ebff;}#sk-container-id-1 div.sk-parallel-item::after {content: \"\";width: 100%;border-bottom: 1px solid gray;flex-grow: 1;}#sk-container-id-1 div.sk-label:hover label.sk-toggleable__label {background-color: #d4ebff;}#sk-container-id-1 div.sk-serial::before {content: \"\";position: absolute;border-left: 1px solid gray;box-sizing: border-box;top: 0;bottom: 0;left: 50%;z-index: 0;}#sk-container-id-1 div.sk-serial {display: flex;flex-direction: column;align-items: center;background-color: white;padding-right: 0.2em;padding-left: 0.2em;position: relative;}#sk-container-id-1 div.sk-item {position: relative;z-index: 1;}#sk-container-id-1 div.sk-parallel {display: flex;align-items: stretch;justify-content: center;background-color: white;position: relative;}#sk-container-id-1 div.sk-item::before, #sk-container-id-1 div.sk-parallel-item::before {content: \"\";position: absolute;border-left: 1px solid gray;box-sizing: border-box;top: 0;bottom: 0;left: 50%;z-index: -1;}#sk-container-id-1 div.sk-parallel-item {display: flex;flex-direction: column;z-index: 1;position: relative;background-color: white;}#sk-container-id-1 div.sk-parallel-item:first-child::after {align-self: flex-end;width: 50%;}#sk-container-id-1 div.sk-parallel-item:last-child::after {align-self: flex-start;width: 50%;}#sk-container-id-1 div.sk-parallel-item:only-child::after {width: 0;}#sk-container-id-1 div.sk-dashed-wrapped {border: 1px dashed gray;margin: 0 0.4em 0.5em 0.4em;box-sizing: border-box;padding-bottom: 0.4em;background-color: white;}#sk-container-id-1 div.sk-label label {font-family: monospace;font-weight: bold;display: inline-block;line-height: 1.2em;}#sk-container-id-1 div.sk-label-container {text-align: center;}#sk-container-id-1 div.sk-container {/* jupyter's `normalize.less` sets `[hidden] { display: none; }` but bootstrap.min.css set `[hidden] { display: none !important; }` so we also need the `!important` here to be able to override the default hidden behavior on the sphinx rendered scikit-learn.org. See: https://github.com/scikit-learn/scikit-learn/issues/21755 */display: inline-block !important;position: relative;}#sk-container-id-1 div.sk-text-repr-fallback {display: none;}</style><div id=\"sk-container-id-1\" class=\"sk-top-container\"><div class=\"sk-text-repr-fallback\"><pre>RandomForestClassifier()</pre><b>In a Jupyter environment, please rerun this cell to show the HTML representation or trust the notebook. <br />On GitHub, the HTML representation is unable to render, please try loading this page with nbviewer.org.</b></div><div class=\"sk-container\" hidden><div class=\"sk-item\"><div class=\"sk-estimator sk-toggleable\"><input class=\"sk-toggleable__control sk-hidden--visually\" id=\"sk-estimator-id-1\" type=\"checkbox\" checked><label for=\"sk-estimator-id-1\" class=\"sk-toggleable__label sk-toggleable__label-arrow\">RandomForestClassifier</label><div class=\"sk-toggleable__content\"><pre>RandomForestClassifier()</pre></div></div></div></div></div>"
      ],
      "text/plain": [
       "RandomForestClassifier()"
      ]
     },
     "execution_count": 7,
     "metadata": {},
     "output_type": "execute_result"
    }
   ],
   "source": [
    "base.fit(X_train,y_train)"
   ]
  },
  {
   "cell_type": "code",
   "execution_count": 8,
   "id": "c570ceaa",
   "metadata": {},
   "outputs": [],
   "source": [
    "base_pred = base.predict(X_test)"
   ]
  },
  {
   "cell_type": "code",
   "execution_count": 9,
   "id": "e1680e81",
   "metadata": {},
   "outputs": [],
   "source": [
    "from sklearn.metrics import confusion_matrix, classification_report, ConfusionMatrixDisplay"
   ]
  },
  {
   "cell_type": "code",
   "execution_count": 10,
   "id": "8f3ccf9e",
   "metadata": {},
   "outputs": [
    {
     "data": {
      "text/plain": [
       "<sklearn.metrics._plot.confusion_matrix.ConfusionMatrixDisplay at 0xb47990af70>"
      ]
     },
     "execution_count": 10,
     "metadata": {},
     "output_type": "execute_result"
    },
    {
     "data": {
      "image/png": "[encoded data removed]",
      "text/plain": [
       "<Figure size 640x480 with 2 Axes>"
      ]
     },
     "metadata": {},
     "output_type": "display_data"
    }
   ],
   "source": [
    "cm = confusion_matrix(y_test,base_pred)\n",
    "disp = ConfusionMatrixDisplay(cm)\n",
    "disp.plot()"
   ]
  },
  {
   "cell_type": "code",
   "execution_count": 11,
   "id": "d9424302",
   "metadata": {
    "scrolled": false
   },
   "outputs": [
    {
     "name": "stdout",
     "output_type": "stream",
     "text": [
      "              precision    recall  f1-score   support\n",
      "\n",
      "           0       0.85      0.92      0.88       519\n",
      "           1       0.71      0.52      0.60       182\n",
      "\n",
      "    accuracy                           0.82       701\n",
      "   macro avg       0.78      0.72      0.74       701\n",
      "weighted avg       0.81      0.82      0.81       701\n",
      "\n"
     ]
    }
   ],
   "source": [
    "print(classification_report(y_test,base_pred))"
   ]
  },
  {
   "cell_type": "markdown",
   "id": "c82d3fda",
   "metadata": {},
   "source": [
    "# Feature Selection"
   ]
  },
  {
   "cell_type": "markdown",
   "id": "6ea50227",
   "metadata": {},
   "source": [
    "We are going to try two different methods and we will compare the results."
   ]
  },
  {
   "cell_type": "markdown",
   "id": "95fdc889",
   "metadata": {},
   "source": [
    "**Recursive Feature Elimination**"
   ]
  },
  {
   "cell_type": "code",
   "execution_count": 14,
   "id": "651bc0e9",
   "metadata": {},
   "outputs": [],
   "source": [
    "from sklearn.feature_selection import RFE\n",
    "from sklearn.model_selection import cross_val_score\n",
    "\n",
    "import matplotlib.pyplot as plt"
   ]
  },
  {
   "cell_type": "code",
   "execution_count": 15,
   "id": "44a82bd3",
   "metadata": {},
   "outputs": [
    {
     "name": "stdout",
     "output_type": "stream",
     "text": [
      " Clf result : 0.767, +- 0.016 N_features : 5\n",
      " Clf result : 0.761, +- 0.016 N_features : 6\n",
      " Clf result : 0.767, +- 0.020 N_features : 7\n",
      " Clf result : 0.769, +- 0.014 N_features : 8\n",
      " Clf result : 0.773, +- 0.015 N_features : 9\n",
      " Clf result : 0.777, +- 0.020 N_features : 10\n",
      " Clf result : 0.779, +- 0.021 N_features : 11\n",
      " Clf result : 0.781, +- 0.022 N_features : 12\n",
      " Clf result : 0.782, +- 0.019 N_features : 13\n",
      " Clf result : 0.779, +- 0.021 N_features : 14\n",
      " Clf result : 0.782, +- 0.017 N_features : 15\n",
      " Clf result : 0.783, +- 0.013 N_features : 16\n",
      " Clf result : 0.781, +- 0.017 N_features : 17\n",
      " Clf result : 0.781, +- 0.014 N_features : 18\n",
      " Clf result : 0.784, +- 0.014 N_features : 19\n",
      " Clf result : 0.785, +- 0.018 N_features : 20\n",
      " Clf result : 0.784, +- 0.016 N_features : 21\n",
      " Clf result : 0.783, +- 0.016 N_features : 22\n",
      " Clf result : 0.781, +- 0.013 N_features : 23\n",
      " Clf result : 0.784, +- 0.014 N_features : 24\n",
      " Clf result : 0.782, +- 0.015 N_features : 25\n",
      " Clf result : 0.785, +- 0.014 N_features : 26\n",
      " Clf result : 0.783, +- 0.016 N_features : 27\n",
      " Clf result : 0.787, +- 0.021 N_features : 28\n",
      " Clf result : 0.782, +- 0.016 N_features : 29\n",
      " Clf result : 0.786, +- 0.017 N_features : 30\n",
      " Clf result : 0.781, +- 0.017 N_features : 31\n",
      " Clf result : 0.784, +- 0.015 N_features : 32\n",
      " Clf result : 0.783, +- 0.015 N_features : 33\n",
      " Clf result : 0.783, +- 0.015 N_features : 34\n",
      " Clf result : 0.781, +- 0.013 N_features : 35\n",
      " Clf result : 0.783, +- 0.016 N_features : 36\n",
      " Clf result : 0.780, +- 0.014 N_features : 37\n",
      " Clf result : 0.783, +- 0.016 N_features : 38\n",
      " Clf result : 0.782, +- 0.016 N_features : 39\n",
      " Clf result : 0.783, +- 0.015 N_features : 40\n",
      " Clf result : 0.783, +- 0.014 N_features : 41\n",
      " Clf result : 0.782, +- 0.015 N_features : 42\n",
      " Clf result : 0.783, +- 0.015 N_features : 43\n"
     ]
    },
    {
     "data": {
      "image/png": "[encoded data removed]",
      "text/plain": [
       "<Figure size 640x480 with 1 Axes>"
      ]
     },
     "metadata": {},
     "output_type": "display_data"
    }
   ],
   "source": [
    "acc_results = []\n",
    "n_features = []\n",
    "\n",
    "for i in range(5, 44):\n",
    "    rfe = RFE(estimator =base, n_features_to_select = i, step=1)\n",
    "    rfe.fit(X,y)\n",
    "    X_temp = rfe.transform(X)\n",
    "\n",
    "    np.random.seed(101)\n",
    "\n",
    "    X_train, X_test, y_train, y_test = train_test_split(X_temp,y,test_size = 0.1)\n",
    "\n",
    "    scores = cross_val_score(base, X_train, y_train ,scoring= 'accuracy', cv=10)\n",
    "    print(\" Clf result :\", \"%0.3f, +- %0.3f\" % (scores.mean(), scores.std()), 'N_features :', i)\n",
    "    acc_results.append(scores.mean())\n",
    "    n_features.append(i)\n",
    "\n",
    "plt.plot(n_features, acc_results)\n",
    "plt.ylabel('Accuracy')\n",
    "plt.xlabel('N features')\n",
    "plt.show()"
   ]
  },
  {
   "cell_type": "code",
   "execution_count": 16,
   "id": "e26adfe5",
   "metadata": {},
   "outputs": [
    {
     "data": {
      "text/plain": [
       "['gender',\n",
       " 'SeniorCitizen',\n",
       " 'Partner',\n",
       " 'Dependents',\n",
       " 'tenure',\n",
       " 'PaperlessBilling',\n",
       " 'MonthlyCharges',\n",
       " 'TotalCharges',\n",
       " 'MultipleLines_No',\n",
       " 'MultipleLines_Yes',\n",
       " 'InternetService_Fiber optic',\n",
       " 'OnlineSecurity_No',\n",
       " 'OnlineBackup_No',\n",
       " 'OnlineBackup_Yes',\n",
       " 'DeviceProtection_No',\n",
       " 'DeviceProtection_Yes',\n",
       " 'TechSupport_No',\n",
       " 'StreamingTV_Yes',\n",
       " 'StreamingMovies_No',\n",
       " 'StreamingMovies_Yes',\n",
       " 'Contract_Month-to-month',\n",
       " 'Contract_Two year',\n",
       " 'PaymentMethod_Bank transfer (automatic)',\n",
       " 'PaymentMethod_Credit card (automatic)',\n",
       " 'PaymentMethod_Electronic check',\n",
       " 'PaymentMethod_Mailed check',\n",
       " 'Tenure Cohort_0-12 Months',\n",
       " 'Tenure Cohort_Over 48 Months']"
      ]
     },
     "execution_count": 16,
     "metadata": {},
     "output_type": "execute_result"
    }
   ],
   "source": [
    "#selection of features that provide the best accuracy \n",
    "rfe = RFE(estimator =base, n_features_to_select = 28, step=1)\n",
    "rfe.fit(X, y)\n",
    "\n",
    "#assigning of feature to a list\n",
    "featured_columns = pd.DataFrame(rfe.support_,\n",
    "                            index = X.columns,\n",
    "                            columns=['is_in'])\n",
    "\n",
    "featured_columns = featured_columns[featured_columns.is_in == True].index.tolist()\n",
    "featured_columns"
   ]
  },
  {
   "cell_type": "code",
   "execution_count": 17,
   "id": "cc2cbee1",
   "metadata": {},
   "outputs": [],
   "source": [
    "X_rfe = X[featured_columns]"
   ]
  },
  {
   "cell_type": "code",
   "execution_count": 18,
   "id": "26790f98",
   "metadata": {},
   "outputs": [],
   "source": [
    "X_train, X_test, y_train, y_test = train_test_split(X_rfe, y, test_size=0.1,random_state=101)"
   ]
  },
  {
   "cell_type": "code",
   "execution_count": 19,
   "id": "36489dd3",
   "metadata": {},
   "outputs": [],
   "source": [
    "base.fit(X_train,y_train)\n",
    "rfe_pred = base.predict(X_test)"
   ]
  },
  {
   "cell_type": "code",
   "execution_count": 20,
   "id": "c21854dd",
   "metadata": {},
   "outputs": [
    {
     "data": {
      "text/plain": [
       "<sklearn.metrics._plot.confusion_matrix.ConfusionMatrixDisplay at 0xb408efdac0>"
      ]
     },
     "execution_count": 20,
     "metadata": {},
     "output_type": "execute_result"
    },
    {
     "data": {
      "image/png": "[encoded data removed]",
      "text/plain": [
       "<Figure size 640x480 with 2 Axes>"
      ]
     },
     "metadata": {},
     "output_type": "display_data"
    }
   ],
   "source": [
    "cm = confusion_matrix(y_test,rfe_pred)\n",
    "disp = ConfusionMatrixDisplay(cm)\n",
    "disp.plot()"
   ]
  },
  {
   "cell_type": "code",
   "execution_count": 21,
   "id": "6109780d",
   "metadata": {
    "scrolled": true
   },
   "outputs": [
    {
     "name": "stdout",
     "output_type": "stream",
     "text": [
      "              precision    recall  f1-score   support\n",
      "\n",
      "           0       0.84      0.93      0.88       519\n",
      "           1       0.71      0.51      0.59       182\n",
      "\n",
      "    accuracy                           0.82       701\n",
      "   macro avg       0.78      0.72      0.74       701\n",
      "weighted avg       0.81      0.82      0.81       701\n",
      "\n"
     ]
    }
   ],
   "source": [
    "print(classification_report(y_test,rfe_pred))"
   ]
  },
  {
   "cell_type": "markdown",
   "id": "52ce1b3b",
   "metadata": {},
   "source": [
    "From the results we can see that the accuracy remained the same using less features. \n"
   ]
  },
  {
   "cell_type": "markdown",
   "id": "afafd704",
   "metadata": {},
   "source": [
    "# Principal Component Analysis"
   ]
  },
  {
   "cell_type": "code",
   "execution_count": 22,
   "id": "92cfdb5b",
   "metadata": {},
   "outputs": [],
   "source": [
    "from sklearn.preprocessing import StandardScaler\n",
    "from sklearn.decomposition import PCA"
   ]
  },
  {
   "cell_type": "code",
   "execution_count": 23,
   "id": "483f1a4e",
   "metadata": {},
   "outputs": [],
   "source": [
    "scaler = StandardScaler()\n",
    "\n",
    "X_scaled = scaler.fit_transform(X)"
   ]
  },
  {
   "cell_type": "code",
   "execution_count": 24,
   "id": "a6292991",
   "metadata": {},
   "outputs": [
    {
     "data": {
      "text/html": [
       "<style>#sk-container-id-2 {color: black;background-color: white;}#sk-container-id-2 pre{padding: 0;}#sk-container-id-2 div.sk-toggleable {background-color: white;}#sk-container-id-2 label.sk-toggleable__label {cursor: pointer;display: block;width: 100%;margin-bottom: 0;padding: 0.3em;box-sizing: border-box;text-align: center;}#sk-container-id-2 label.sk-toggleable__label-arrow:before {content: \"▸\";float: left;margin-right: 0.25em;color: #696969;}#sk-container-id-2 label.sk-toggleable__label-arrow:hover:before {color: black;}#sk-container-id-2 div.sk-estimator:hover label.sk-toggleable__label-arrow:before {color: black;}#sk-container-id-2 div.sk-toggleable__content {max-height: 0;max-width: 0;overflow: hidden;text-align: left;background-color: #f0f8ff;}#sk-container-id-2 div.sk-toggleable__content pre {margin: 0.2em;color: black;border-radius: 0.25em;background-color: #f0f8ff;}#sk-container-id-2 input.sk-toggleable__control:checked~div.sk-toggleable__content {max-height: 200px;max-width: 100%;overflow: auto;}#sk-container-id-2 input.sk-toggleable__control:checked~label.sk-toggleable__label-arrow:before {content: \"▾\";}#sk-container-id-2 div.sk-estimator input.sk-toggleable__control:checked~label.sk-toggleable__label {background-color: #d4ebff;}#sk-container-id-2 div.sk-label input.sk-toggleable__control:checked~label.sk-toggleable__label {background-color: #d4ebff;}#sk-container-id-2 input.sk-hidden--visually {border: 0;clip: rect(1px 1px 1px 1px);clip: rect(1px, 1px, 1px, 1px);height: 1px;margin: -1px;overflow: hidden;padding: 0;position: absolute;width: 1px;}#sk-container-id-2 div.sk-estimator {font-family: monospace;background-color: #f0f8ff;border: 1px dotted black;border-radius: 0.25em;box-sizing: border-box;margin-bottom: 0.5em;}#sk-container-id-2 div.sk-estimator:hover {background-color: #d4ebff;}#sk-container-id-2 div.sk-parallel-item::after {content: \"\";width: 100%;border-bottom: 1px solid gray;flex-grow: 1;}#sk-container-id-2 div.sk-label:hover label.sk-toggleable__label {background-color: #d4ebff;}#sk-container-id-2 div.sk-serial::before {content: \"\";position: absolute;border-left: 1px solid gray;box-sizing: border-box;top: 0;bottom: 0;left: 50%;z-index: 0;}#sk-container-id-2 div.sk-serial {display: flex;flex-direction: column;align-items: center;background-color: white;padding-right: 0.2em;padding-left: 0.2em;position: relative;}#sk-container-id-2 div.sk-item {position: relative;z-index: 1;}#sk-container-id-2 div.sk-parallel {display: flex;align-items: stretch;justify-content: center;background-color: white;position: relative;}#sk-container-id-2 div.sk-item::before, #sk-container-id-2 div.sk-parallel-item::before {content: \"\";position: absolute;border-left: 1px solid gray;box-sizing: border-box;top: 0;bottom: 0;left: 50%;z-index: -1;}#sk-container-id-2 div.sk-parallel-item {display: flex;flex-direction: column;z-index: 1;position: relative;background-color: white;}#sk-container-id-2 div.sk-parallel-item:first-child::after {align-self: flex-end;width: 50%;}#sk-container-id-2 div.sk-parallel-item:last-child::after {align-self: flex-start;width: 50%;}#sk-container-id-2 div.sk-parallel-item:only-child::after {width: 0;}#sk-container-id-2 div.sk-dashed-wrapped {border: 1px dashed gray;margin: 0 0.4em 0.5em 0.4em;box-sizing: border-box;padding-bottom: 0.4em;background-color: white;}#sk-container-id-2 div.sk-label label {font-family: monospace;font-weight: bold;display: inline-block;line-height: 1.2em;}#sk-container-id-2 div.sk-label-container {text-align: center;}#sk-container-id-2 div.sk-container {/* jupyter's `normalize.less` sets `[hidden] { display: none; }` but bootstrap.min.css set `[hidden] { display: none !important; }` so we also need the `!important` here to be able to override the default hidden behavior on the sphinx rendered scikit-learn.org. See: https://github.com/scikit-learn/scikit-learn/issues/21755 */display: inline-block !important;position: relative;}#sk-container-id-2 div.sk-text-repr-fallback {display: none;}</style><div id=\"sk-container-id-2\" class=\"sk-top-container\"><div class=\"sk-text-repr-fallback\"><pre>PCA()</pre><b>In a Jupyter environment, please rerun this cell to show the HTML representation or trust the notebook. <br />On GitHub, the HTML representation is unable to render, please try loading this page with nbviewer.org.</b></div><div class=\"sk-container\" hidden><div class=\"sk-item\"><div class=\"sk-estimator sk-toggleable\"><input class=\"sk-toggleable__control sk-hidden--visually\" id=\"sk-estimator-id-2\" type=\"checkbox\" checked><label for=\"sk-estimator-id-2\" class=\"sk-toggleable__label sk-toggleable__label-arrow\">PCA</label><div class=\"sk-toggleable__content\"><pre>PCA()</pre></div></div></div></div></div>"
      ],
      "text/plain": [
       "PCA()"
      ]
     },
     "execution_count": 24,
     "metadata": {},
     "output_type": "execute_result"
    }
   ],
   "source": [
    "components = None\n",
    "pca = PCA(n_components = components)\n",
    "# perform PCA on the scaled data\n",
    "pca.fit(X_scaled)"
   ]
  },
  {
   "cell_type": "code",
   "execution_count": 25,
   "id": "9b6fe1f1",
   "metadata": {},
   "outputs": [
    {
     "name": "stdout",
     "output_type": "stream",
     "text": [
      "Variances (Percentage):\n",
      "[2.52796432e+01 1.53016058e+01 8.13025271e+00 4.59086734e+00\n",
      " 3.96177096e+00 3.54401821e+00 3.12181826e+00 2.95132837e+00\n",
      " 2.88835854e+00 2.84146072e+00 2.69957552e+00 2.65468305e+00\n",
      " 2.63792433e+00 2.50853160e+00 2.31736212e+00 2.25966672e+00\n",
      " 2.11902022e+00 2.09282191e+00 1.98867085e+00 1.84304229e+00\n",
      " 1.77422364e+00 1.19217206e+00 1.04425503e+00 1.96369624e-01\n",
      " 5.83798906e-02 2.17700270e-03 4.98553056e-30 4.07091611e-31\n",
      " 3.76946710e-31 3.19840792e-31 1.17173983e-31 1.17173983e-31\n",
      " 1.17173983e-31 1.17173983e-31 1.17173983e-31 1.17173983e-31\n",
      " 1.17173983e-31 1.17173983e-31 1.17173983e-31 1.17173983e-31\n",
      " 1.17173983e-31 1.15445919e-31 5.15698755e-32 4.29268016e-32]\n",
      "\n"
     ]
    }
   ],
   "source": [
    "# print the explained variances\n",
    "print(\"Variances (Percentage):\")\n",
    "print(pca.explained_variance_ratio_ * 100)\n",
    "print()"
   ]
  },
  {
   "cell_type": "code",
   "execution_count": 26,
   "id": "a02e8558",
   "metadata": {},
   "outputs": [
    {
     "name": "stdout",
     "output_type": "stream",
     "text": [
      "Cumulative Variances (Percentage):\n",
      "[ 25.27964322  40.58124903  48.71150174  53.30236908  57.26414004\n",
      "  60.80815825  63.92997652  66.88130488  69.76966343  72.61112415\n",
      "  75.31069967  77.96538272  80.60330705  83.11183865  85.42920077\n",
      "  87.68886749  89.80788771  91.90070962  93.88938047  95.73242276\n",
      "  97.5066464   98.69881845  99.74307348  99.93944311  99.997823\n",
      " 100.         100.         100.         100.         100.\n",
      " 100.         100.         100.         100.         100.\n",
      " 100.         100.         100.         100.         100.\n",
      " 100.         100.         100.         100.        ]\n",
      "\n"
     ]
    }
   ],
   "source": [
    "print(\"Cumulative Variances (Percentage):\")\n",
    "print(pca.explained_variance_ratio_.cumsum() * 100)\n",
    "print()"
   ]
  },
  {
   "cell_type": "code",
   "execution_count": 27,
   "id": "2788488c",
   "metadata": {},
   "outputs": [
    {
     "data": {
      "text/plain": [
       "Text(0, 0.5, 'Explained variance (%)')"
      ]
     },
     "execution_count": 27,
     "metadata": {},
     "output_type": "execute_result"
    },
    {
     "data": {
      "image/png": "[encoded data removed]",
      "text/plain": [
       "<Figure size 640x480 with 1 Axes>"
      ]
     },
     "metadata": {},
     "output_type": "display_data"
    }
   ],
   "source": [
    "# scree plot\n",
    "components = len(pca.explained_variance_ratio_) \\\n",
    "    if components is None else components\n",
    "plt.plot(range(1,components+1), \n",
    "         np.cumsum(pca.explained_variance_ratio_ * 100))\n",
    "plt.xlabel(\"Number of components\")\n",
    "plt.ylabel(\"Explained variance (%)\")"
   ]
  },
  {
   "cell_type": "code",
   "execution_count": 114,
   "id": "64487f2a",
   "metadata": {},
   "outputs": [
    {
     "name": "stdout",
     "output_type": "stream",
     "text": [
      "Cumulative Variances (Percentage):\n",
      "[25.27964322 40.58124903 48.71150174 53.30236908 57.26414004 60.80815825\n",
      " 63.92997652 66.88130488 69.76966343 72.61112415 75.31069967 77.96538272\n",
      " 80.60330705 83.11183865 85.42920077 87.68886749 89.80788771 91.90070962]\n",
      "Number of components: 18\n"
     ]
    },
    {
     "data": {
      "text/plain": [
       "Text(0, 0.5, 'Explained variance (%)')"
      ]
     },
     "execution_count": 114,
     "metadata": {},
     "output_type": "execute_result"
    },
    {
     "data": {
      "image/png": "[encoded data removed]",
      "text/plain": [
       "<Figure size 640x480 with 1 Axes>"
      ]
     },
     "metadata": {},
     "output_type": "display_data"
    }
   ],
   "source": [
    "pca = PCA(n_components = 0.9)\n",
    "pca.fit(X_scaled)\n",
    "print(\"Cumulative Variances (Percentage):\")\n",
    "print(np.cumsum(pca.explained_variance_ratio_ * 100))\n",
    "components = len(pca.explained_variance_ratio_)\n",
    "print(f'Number of components: {components}')\n",
    "# Make the scree plot\n",
    "plt.plot(range(1, components + 1), np.cumsum(pca.explained_variance_ratio_ * 100))\n",
    "plt.xlabel(\"Number of components\")\n",
    "plt.ylabel(\"Explained variance (%)\")"
   ]
  },
  {
   "cell_type": "code",
   "execution_count": 115,
   "id": "2d7940ce",
   "metadata": {
    "scrolled": true
   },
   "outputs": [
    {
     "name": "stdout",
     "output_type": "stream",
     "text": [
      "Top 5 most important features in each component\n",
      "===============================================\n",
      "Component 0: ['InternetService_Fiber optic', 'StreamingTV_No', 'DeviceProtection_No', 'OnlineBackup_No', 'OnlineSecurity_No']\n",
      "Component 1: ['tenure', 'TotalCharges', 'Tenure Cohort_24-48 Months', 'StreamingMovies_Yes', 'PaymentMethod_Mailed check']\n",
      "Component 2: ['MultipleLines_Yes', 'MultipleLines_No', 'PhoneService', 'InternetService_DSL', 'MonthlyCharges']\n",
      "Component 3: ['MultipleLines_No', 'PhoneService', 'StreamingTV_Yes', 'TechSupport_Yes', 'StreamingMovies_No internet service']\n",
      "Component 4: ['Churn', 'MultipleLines_No phone service', 'TechSupport_No internet service', 'StreamingTV_No internet service', 'DeviceProtection_Yes']\n",
      "Component 5: ['Tenure Cohort_12-24 Months', 'Contract_Month-to-month', 'PaymentMethod_Mailed check', 'Contract_One year', 'Tenure Cohort_24-48 Months']\n",
      "Component 6: ['OnlineBackup_No internet service', 'OnlineSecurity_Yes', 'Dependents', 'Partner', 'Tenure Cohort_0-12 Months']\n",
      "Component 7: ['PaymentMethod_Bank transfer (automatic)', 'Contract_Two year', 'Dependents', 'Partner', 'MultipleLines_No phone service']\n",
      "Component 8: ['Contract_Two year', 'PaymentMethod_Bank transfer (automatic)', 'Dependents', 'Partner', 'Tenure Cohort_0-12 Months']\n",
      "Component 9: ['Tenure Cohort_0-12 Months', 'MultipleLines_No phone service', 'Churn', 'OnlineSecurity_No internet service', 'PaymentMethod_Electronic check']\n",
      "Component 10: ['Tenure Cohort_0-12 Months', 'Tenure Cohort_12-24 Months', 'Dependents', 'TechSupport_No internet service', 'DeviceProtection_Yes']\n",
      "Component 11: ['DeviceProtection_No internet service', 'OnlineBackup_Yes', 'Contract_Month-to-month', 'OnlineSecurity_No internet service', 'InternetService_No']\n",
      "Component 12: ['OnlineSecurity_No internet service', 'InternetService_No', 'TechSupport_No internet service', 'DeviceProtection_Yes', 'Tenure Cohort_0-12 Months']\n",
      "Component 13: ['Contract_Month-to-month', 'PaymentMethod_Electronic check', 'Tenure Cohort_12-24 Months', 'MultipleLines_No phone service', 'gender']\n",
      "Component 14: ['PaymentMethod_Credit card (automatic)', 'TechSupport_No internet service', 'DeviceProtection_Yes', 'PaymentMethod_Bank transfer (automatic)', 'PaymentMethod_Electronic check']\n",
      "Component 15: ['gender', 'Contract_Month-to-month', 'PaymentMethod_Credit card (automatic)', 'Tenure Cohort_12-24 Months', 'PaymentMethod_Electronic check']\n",
      "Component 16: ['StreamingMovies_No internet service', 'StreamingTV_Yes', 'TechSupport_Yes', 'StreamingTV_No internet service', 'PaymentMethod_Electronic check']\n",
      "Component 17: ['PaymentMethod_Electronic check', 'StreamingTV_No internet service', 'StreamingTV_Yes', 'StreamingMovies_No internet service', 'TechSupport_Yes']\n"
     ]
    }
   ],
   "source": [
    "pca_components = abs(pca.components_)\n",
    "\n",
    "print('Top 5 most important features in each component')\n",
    "print('===============================================')\n",
    "for row in range(pca_components.shape[0]):\n",
    "    # get the indices of the top 4 values in each row\n",
    "    temp = np.argpartition(-(pca_components[row]), 5)\n",
    "    \n",
    "    # sort the indices in descending order\n",
    "    indices = temp[np.argsort((-pca_components[row])[temp])][:5]\n",
    "    \n",
    "    # print the top 5 feature names\n",
    "    print(f'Component {row}: {df.columns[indices].to_list()}')"
   ]
  },
  {
   "cell_type": "code",
   "execution_count": 116,
   "id": "224aeb92",
   "metadata": {},
   "outputs": [
    {
     "name": "stdout",
     "output_type": "stream",
     "text": [
      "(7010, 18)\n",
      "[[-1.58534659 -3.52633594  3.38964606 ... -1.43661506 -0.42204015\n",
      "   0.6488447 ]\n",
      " [-0.4726248  -0.81256355  2.58801396 ...  1.2017108   0.48012066\n",
      "  -1.19274329]\n",
      " [-0.64667439 -3.06924977  2.06073172 ...  1.41575817 -0.02804879\n",
      "  -0.09496462]\n",
      " ...\n",
      " [-1.39240059 -3.18852793  4.21569775 ... -1.42706303 -0.74206577\n",
      "   0.84102461]\n",
      " [-1.75003721 -3.42028711 -1.21465179 ...  0.96293977  1.11393816\n",
      "  -1.13865112]\n",
      " [-1.84583852  3.90346589 -0.4434558  ...  1.28170652 -0.18284305\n",
      "  -0.4052677 ]]\n"
     ]
    }
   ],
   "source": [
    "X_pca = pca.transform(X_scaled)\n",
    "print(X_pca.shape)\n",
    "print(X_pca)"
   ]
  },
  {
   "cell_type": "code",
   "execution_count": 117,
   "id": "d702d9d2",
   "metadata": {},
   "outputs": [],
   "source": [
    "X_train, X_test, y_train, y_test = train_test_split(X_pca, y, test_size=0.1,random_state=101)"
   ]
  },
  {
   "cell_type": "code",
   "execution_count": 118,
   "id": "0ec29852",
   "metadata": {},
   "outputs": [],
   "source": [
    "base.fit(X_train,y_train)\n",
    "pca_pred = base.predict(X_test)"
   ]
  },
  {
   "cell_type": "code",
   "execution_count": 119,
   "id": "1ec75c72",
   "metadata": {},
   "outputs": [
    {
     "data": {
      "text/plain": [
       "<sklearn.metrics._plot.confusion_matrix.ConfusionMatrixDisplay at 0xb40b77d070>"
      ]
     },
     "execution_count": 119,
     "metadata": {},
     "output_type": "execute_result"
    },
    {
     "data": {
      "image/png": "[encoded data removed]",
      "text/plain": [
       "<Figure size 640x480 with 2 Axes>"
      ]
     },
     "metadata": {},
     "output_type": "display_data"
    }
   ],
   "source": [
    "cm = confusion_matrix(y_test,pca_pred)\n",
    "disp = ConfusionMatrixDisplay(cm)\n",
    "disp.plot()"
   ]
  },
  {
   "cell_type": "code",
   "execution_count": 120,
   "id": "5581a430",
   "metadata": {},
   "outputs": [
    {
     "name": "stdout",
     "output_type": "stream",
     "text": [
      "              precision    recall  f1-score   support\n",
      "\n",
      "           0       0.83      0.91      0.87       519\n",
      "           1       0.65      0.46      0.54       182\n",
      "\n",
      "    accuracy                           0.79       701\n",
      "   macro avg       0.74      0.68      0.70       701\n",
      "weighted avg       0.78      0.79      0.78       701\n",
      "\n"
     ]
    }
   ],
   "source": [
    "print(classification_report(y_test,pca_pred))"
   ]
  },
  {
   "cell_type": "markdown",
   "id": "dd66f096",
   "metadata": {},
   "source": [
    "PCA provided worst results comparing to RFE. The different thresholds used are the following: 0.7, 0.75, 0.8, 0.85, 0.89.\n",
    "    \n",
    "We will proceed with RFE.    "
   ]
  },
  {
   "cell_type": "markdown",
   "id": "32359f8e",
   "metadata": {},
   "source": [
    "# ADASYN"
   ]
  },
  {
   "cell_type": "markdown",
   "id": "552b2fa5",
   "metadata": {},
   "source": [
    "We are going to test if we can impove the results after performing SMOTE resampling."
   ]
  },
  {
   "cell_type": "code",
   "execution_count": 146,
   "id": "f422e1c8",
   "metadata": {},
   "outputs": [],
   "source": [
    "X_train, X_test, y_train, y_test = train_test_split(X_rfe, y, test_size=0.1,random_state=101)"
   ]
  },
  {
   "cell_type": "code",
   "execution_count": 147,
   "id": "fe20a164",
   "metadata": {},
   "outputs": [],
   "source": [
    "from imblearn.over_sampling import ADASYN"
   ]
  },
  {
   "cell_type": "code",
   "execution_count": 148,
   "id": "522e18e5",
   "metadata": {},
   "outputs": [],
   "source": [
    "ad = ADASYN()"
   ]
  },
  {
   "cell_type": "code",
   "execution_count": 149,
   "id": "b61e3804",
   "metadata": {},
   "outputs": [],
   "source": [
    "X_res, y_res = ad.fit_resample(X_train, y_train)"
   ]
  },
  {
   "cell_type": "code",
   "execution_count": 150,
   "id": "214b32ed",
   "metadata": {},
   "outputs": [],
   "source": [
    "import seaborn as sns"
   ]
  },
  {
   "cell_type": "code",
   "execution_count": 151,
   "id": "1a8a04cb",
   "metadata": {},
   "outputs": [
    {
     "name": "stderr",
     "output_type": "stream",
     "text": [
      "C:\\Users\\George\\anaconda3\\envs\\tf\\lib\\site-packages\\seaborn\\_decorators.py:36: FutureWarning: Pass the following variable as a keyword arg: x. From version 0.12, the only valid positional argument will be `data`, and passing other arguments without an explicit keyword will result in an error or misinterpretation.\n",
      "  warnings.warn(\n"
     ]
    },
    {
     "data": {
      "text/plain": [
       "<AxesSubplot:xlabel='Churn', ylabel='count'>"
      ]
     },
     "execution_count": 151,
     "metadata": {},
     "output_type": "execute_result"
    },
    {
     "data": {
      "image/png": "[encoded data removed]",
      "text/plain": [
       "<Figure size 640x480 with 1 Axes>"
      ]
     },
     "metadata": {},
     "output_type": "display_data"
    }
   ],
   "source": [
    "sns.countplot(y_res)"
   ]
  },
  {
   "cell_type": "code",
   "execution_count": 152,
   "id": "72838e1e",
   "metadata": {},
   "outputs": [],
   "source": [
    "base.fit(X_res,y_res)\n",
    "ad_pred = base.predict(X_test)"
   ]
  },
  {
   "cell_type": "code",
   "execution_count": 153,
   "id": "c8e70438",
   "metadata": {},
   "outputs": [
    {
     "data": {
      "text/plain": [
       "<sklearn.metrics._plot.confusion_matrix.ConfusionMatrixDisplay at 0xb40dad8a00>"
      ]
     },
     "execution_count": 153,
     "metadata": {},
     "output_type": "execute_result"
    },
    {
     "data": {
      "image/png": "[encoded data removed]",
      "text/plain": [
       "<Figure size 640x480 with 2 Axes>"
      ]
     },
     "metadata": {},
     "output_type": "display_data"
    }
   ],
   "source": [
    "cm = confusion_matrix(y_test,ad_pred)\n",
    "disp = ConfusionMatrixDisplay(cm)\n",
    "disp.plot()"
   ]
  },
  {
   "cell_type": "code",
   "execution_count": 154,
   "id": "90cd0119",
   "metadata": {
    "scrolled": true
   },
   "outputs": [
    {
     "name": "stdout",
     "output_type": "stream",
     "text": [
      "              precision    recall  f1-score   support\n",
      "\n",
      "           0       0.86      0.88      0.87       519\n",
      "           1       0.62      0.58      0.60       182\n",
      "\n",
      "    accuracy                           0.80       701\n",
      "   macro avg       0.74      0.73      0.73       701\n",
      "weighted avg       0.79      0.80      0.80       701\n",
      "\n"
     ]
    }
   ],
   "source": [
    "print(classification_report(y_test,ad_pred))"
   ]
  },
  {
   "cell_type": "markdown",
   "id": "a1e8bf89",
   "metadata": {},
   "source": [
    "The accuracy dropped by 0,2. **We managed to improve the recall of churning class by 0.9.**"
   ]
  },
  {
   "cell_type": "code",
   "execution_count": 155,
   "id": "035f463c",
   "metadata": {},
   "outputs": [],
   "source": [
    "from sklearn.model_selection import RandomizedSearchCV, GridSearchCV\n",
    "from sklearn.metrics import accuracy_score\n"
   ]
  },
  {
   "cell_type": "code",
   "execution_count": 175,
   "id": "e5105612",
   "metadata": {},
   "outputs": [],
   "source": [
    "######First we are going to implement RandomSearchCV\n",
    "criterion = ['gini', 'entropy']\n",
    "# Number of trees in random forest\n",
    "n_estimators = [int(x) for x in np.linspace(start = 100, stop = 2000, num = 20)]\n",
    "# Number of features to consider at every split\n",
    "max_features = ['log2', 'sqrt']\n",
    "# Maximum number of levels in tree\n",
    "max_depth = [int(x) for x in np.linspace(5, 50, num = 10)]\n",
    "max_depth.append(None)\n",
    "# Minimum number of samples required to split a node\n",
    "min_samples_split = [1,2,3,4,5]\n",
    "# Minimum number of samples required at each leaf node\n",
    "min_samples_leaf = [0.1,0.2, 0.3, 0.4, 0.5]\n",
    "# Method of selecting samples for training each tree\n",
    "bootstrap = [True]\n",
    "\n",
    "\n",
    "random_grid = {\n",
    "    'criterion':criterion,\n",
    "    'n_estimators':n_estimators,\n",
    "    'max_features': max_features,\n",
    "    'max_depth': max_depth,\n",
    "    'min_samples_split': min_samples_split,\n",
    "    'min_samples_leaf': min_samples_leaf,\n",
    "    'bootstrap': bootstrap,\n",
    "}"
   ]
  },
  {
   "cell_type": "code",
   "execution_count": 176,
   "id": "49c9aeee",
   "metadata": {
    "scrolled": true
   },
   "outputs": [
    {
     "name": "stdout",
     "output_type": "stream",
     "text": [
      "Fitting 5 folds for each of 100 candidates, totalling 500 fits\n",
      "[CV] END bootstrap=True, criterion=gini, max_depth=40, max_features=log2, min_samples_leaf=0.3, min_samples_split=4, n_estimators=1100; total time=   3.6s\n",
      "[CV] END bootstrap=True, criterion=gini, max_depth=40, max_features=log2, min_samples_leaf=0.3, min_samples_split=4, n_estimators=1100; total time=   5.2s\n",
      "[CV] END bootstrap=True, criterion=gini, max_depth=40, max_features=log2, min_samples_leaf=0.3, min_samples_split=4, n_estimators=1100; total time=   7.1s\n",
      "[CV] END bootstrap=True, criterion=gini, max_depth=40, max_features=log2, min_samples_leaf=0.3, min_samples_split=4, n_estimators=1100; total time=   8.7s\n",
      "[CV] END bootstrap=True, criterion=gini, max_depth=40, max_features=log2, min_samples_leaf=0.3, min_samples_split=4, n_estimators=1100; total time=   7.8s\n",
      "[CV] END bootstrap=True, criterion=gini, max_depth=5, max_features=sqrt, min_samples_leaf=0.4, min_samples_split=4, n_estimators=100; total time=   0.8s\n",
      "[CV] END bootstrap=True, criterion=gini, max_depth=5, max_features=sqrt, min_samples_leaf=0.4, min_samples_split=4, n_estimators=100; total time=   1.0s\n",
      "[CV] END bootstrap=True, criterion=gini, max_depth=5, max_features=sqrt, min_samples_leaf=0.4, min_samples_split=4, n_estimators=100; total time=   0.7s\n",
      "[CV] END bootstrap=True, criterion=gini, max_depth=5, max_features=sqrt, min_samples_leaf=0.4, min_samples_split=4, n_estimators=100; total time=   0.7s\n",
      "[CV] END bootstrap=True, criterion=gini, max_depth=5, max_features=sqrt, min_samples_leaf=0.4, min_samples_split=4, n_estimators=100; total time=   0.6s\n",
      "[CV] END bootstrap=True, criterion=gini, max_depth=30, max_features=log2, min_samples_leaf=0.4, min_samples_split=5, n_estimators=1100; total time=   7.0s\n",
      "[CV] END bootstrap=True, criterion=gini, max_depth=30, max_features=log2, min_samples_leaf=0.4, min_samples_split=5, n_estimators=1100; total time=   4.5s\n",
      "[CV] END bootstrap=True, criterion=gini, max_depth=30, max_features=log2, min_samples_leaf=0.4, min_samples_split=5, n_estimators=1100; total time=   2.7s\n",
      "[CV] END bootstrap=True, criterion=gini, max_depth=30, max_features=log2, min_samples_leaf=0.4, min_samples_split=5, n_estimators=1100; total time=   2.9s\n",
      "[CV] END bootstrap=True, criterion=gini, max_depth=30, max_features=log2, min_samples_leaf=0.4, min_samples_split=5, n_estimators=1100; total time=   2.6s\n",
      "[CV] END bootstrap=True, criterion=gini, max_depth=30, max_features=log2, min_samples_leaf=0.2, min_samples_split=5, n_estimators=1200; total time=   3.4s\n",
      "[CV] END bootstrap=True, criterion=gini, max_depth=30, max_features=log2, min_samples_leaf=0.2, min_samples_split=5, n_estimators=1200; total time=   3.3s\n",
      "[CV] END bootstrap=True, criterion=gini, max_depth=30, max_features=log2, min_samples_leaf=0.2, min_samples_split=5, n_estimators=1200; total time=   3.8s\n",
      "[CV] END bootstrap=True, criterion=gini, max_depth=30, max_features=log2, min_samples_leaf=0.2, min_samples_split=5, n_estimators=1200; total time=   3.3s\n",
      "[CV] END bootstrap=True, criterion=gini, max_depth=30, max_features=log2, min_samples_leaf=0.2, min_samples_split=5, n_estimators=1200; total time=   3.5s\n",
      "[CV] END bootstrap=True, criterion=gini, max_depth=30, max_features=sqrt, min_samples_leaf=0.3, min_samples_split=2, n_estimators=1500; total time=   5.0s\n",
      "[CV] END bootstrap=True, criterion=gini, max_depth=30, max_features=sqrt, min_samples_leaf=0.3, min_samples_split=2, n_estimators=1500; total time=   4.5s\n",
      "[CV] END bootstrap=True, criterion=gini, max_depth=30, max_features=sqrt, min_samples_leaf=0.3, min_samples_split=2, n_estimators=1500; total time=   6.8s\n",
      "[CV] END bootstrap=True, criterion=gini, max_depth=30, max_features=sqrt, min_samples_leaf=0.3, min_samples_split=2, n_estimators=1500; total time=  13.5s\n",
      "[CV] END bootstrap=True, criterion=gini, max_depth=30, max_features=sqrt, min_samples_leaf=0.3, min_samples_split=2, n_estimators=1500; total time=  13.7s\n",
      "[CV] END bootstrap=True, criterion=gini, max_depth=35, max_features=log2, min_samples_leaf=0.3, min_samples_split=4, n_estimators=600; total time=   2.8s\n",
      "[CV] END bootstrap=True, criterion=gini, max_depth=35, max_features=log2, min_samples_leaf=0.3, min_samples_split=4, n_estimators=600; total time=   4.7s\n",
      "[CV] END bootstrap=True, criterion=gini, max_depth=35, max_features=log2, min_samples_leaf=0.3, min_samples_split=4, n_estimators=600; total time=   4.5s\n",
      "[CV] END bootstrap=True, criterion=gini, max_depth=35, max_features=log2, min_samples_leaf=0.3, min_samples_split=4, n_estimators=600; total time=   3.5s\n",
      "[CV] END bootstrap=True, criterion=gini, max_depth=35, max_features=log2, min_samples_leaf=0.3, min_samples_split=4, n_estimators=600; total time=   4.3s\n",
      "[CV] END bootstrap=True, criterion=gini, max_depth=5, max_features=log2, min_samples_leaf=0.5, min_samples_split=4, n_estimators=700; total time=   5.2s\n",
      "[CV] END bootstrap=True, criterion=gini, max_depth=5, max_features=log2, min_samples_leaf=0.5, min_samples_split=4, n_estimators=700; total time=   3.7s\n",
      "[CV] END bootstrap=True, criterion=gini, max_depth=5, max_features=log2, min_samples_leaf=0.5, min_samples_split=4, n_estimators=700; total time=   2.2s\n",
      "[CV] END bootstrap=True, criterion=gini, max_depth=5, max_features=log2, min_samples_leaf=0.5, min_samples_split=4, n_estimators=700; total time=   2.6s\n",
      "[CV] END bootstrap=True, criterion=gini, max_depth=5, max_features=log2, min_samples_leaf=0.5, min_samples_split=4, n_estimators=700; total time=   2.9s\n",
      "[CV] END bootstrap=True, criterion=gini, max_depth=25, max_features=log2, min_samples_leaf=0.5, min_samples_split=2, n_estimators=700; total time=   2.6s\n",
      "[CV] END bootstrap=True, criterion=gini, max_depth=25, max_features=log2, min_samples_leaf=0.5, min_samples_split=2, n_estimators=700; total time=   2.2s\n",
      "[CV] END bootstrap=True, criterion=gini, max_depth=25, max_features=log2, min_samples_leaf=0.5, min_samples_split=2, n_estimators=700; total time=   1.6s\n",
      "[CV] END bootstrap=True, criterion=gini, max_depth=25, max_features=log2, min_samples_leaf=0.5, min_samples_split=2, n_estimators=700; total time=   1.5s\n",
      "[CV] END bootstrap=True, criterion=gini, max_depth=25, max_features=log2, min_samples_leaf=0.5, min_samples_split=2, n_estimators=700; total time=   1.6s\n",
      "[CV] END bootstrap=True, criterion=gini, max_depth=30, max_features=sqrt, min_samples_leaf=0.1, min_samples_split=4, n_estimators=1900; total time=   6.9s\n",
      "[CV] END bootstrap=True, criterion=gini, max_depth=30, max_features=sqrt, min_samples_leaf=0.1, min_samples_split=4, n_estimators=1900; total time=   6.8s\n",
      "[CV] END bootstrap=True, criterion=gini, max_depth=30, max_features=sqrt, min_samples_leaf=0.1, min_samples_split=4, n_estimators=1900; total time=  10.4s\n",
      "[CV] END bootstrap=True, criterion=gini, max_depth=30, max_features=sqrt, min_samples_leaf=0.1, min_samples_split=4, n_estimators=1900; total time=   9.3s\n",
      "[CV] END bootstrap=True, criterion=gini, max_depth=30, max_features=sqrt, min_samples_leaf=0.1, min_samples_split=4, n_estimators=1900; total time=   7.3s\n",
      "[CV] END bootstrap=True, criterion=gini, max_depth=45, max_features=log2, min_samples_leaf=0.4, min_samples_split=2, n_estimators=300; total time=   0.8s\n",
      "[CV] END bootstrap=True, criterion=gini, max_depth=45, max_features=log2, min_samples_leaf=0.4, min_samples_split=2, n_estimators=300; total time=   0.7s\n",
      "[CV] END bootstrap=True, criterion=gini, max_depth=45, max_features=log2, min_samples_leaf=0.4, min_samples_split=2, n_estimators=300; total time=   0.7s\n",
      "[CV] END bootstrap=True, criterion=gini, max_depth=45, max_features=log2, min_samples_leaf=0.4, min_samples_split=2, n_estimators=300; total time=   0.7s\n",
      "[CV] END bootstrap=True, criterion=gini, max_depth=45, max_features=log2, min_samples_leaf=0.4, min_samples_split=2, n_estimators=300; total time=   0.7s\n",
      "[CV] END bootstrap=True, criterion=gini, max_depth=10, max_features=sqrt, min_samples_leaf=0.2, min_samples_split=5, n_estimators=600; total time=   2.1s\n",
      "[CV] END bootstrap=True, criterion=gini, max_depth=10, max_features=sqrt, min_samples_leaf=0.2, min_samples_split=5, n_estimators=600; total time=   3.0s\n",
      "[CV] END bootstrap=True, criterion=gini, max_depth=10, max_features=sqrt, min_samples_leaf=0.2, min_samples_split=5, n_estimators=600; total time=   4.1s\n"
     ]
    },
    {
     "name": "stdout",
     "output_type": "stream",
     "text": [
      "[CV] END bootstrap=True, criterion=gini, max_depth=10, max_features=sqrt, min_samples_leaf=0.2, min_samples_split=5, n_estimators=600; total time=   3.8s\n",
      "[CV] END bootstrap=True, criterion=gini, max_depth=10, max_features=sqrt, min_samples_leaf=0.2, min_samples_split=5, n_estimators=600; total time=   3.4s\n",
      "[CV] END bootstrap=True, criterion=gini, max_depth=5, max_features=sqrt, min_samples_leaf=0.3, min_samples_split=4, n_estimators=1000; total time=   3.3s\n",
      "[CV] END bootstrap=True, criterion=gini, max_depth=5, max_features=sqrt, min_samples_leaf=0.3, min_samples_split=4, n_estimators=1000; total time=   3.7s\n",
      "[CV] END bootstrap=True, criterion=gini, max_depth=5, max_features=sqrt, min_samples_leaf=0.3, min_samples_split=4, n_estimators=1000; total time=   3.5s\n",
      "[CV] END bootstrap=True, criterion=gini, max_depth=5, max_features=sqrt, min_samples_leaf=0.3, min_samples_split=4, n_estimators=1000; total time=   2.9s\n",
      "[CV] END bootstrap=True, criterion=gini, max_depth=5, max_features=sqrt, min_samples_leaf=0.3, min_samples_split=4, n_estimators=1000; total time=   3.6s\n",
      "[CV] END bootstrap=True, criterion=gini, max_depth=None, max_features=sqrt, min_samples_leaf=0.1, min_samples_split=5, n_estimators=400; total time=   1.6s\n",
      "[CV] END bootstrap=True, criterion=gini, max_depth=None, max_features=sqrt, min_samples_leaf=0.1, min_samples_split=5, n_estimators=400; total time=   1.3s\n",
      "[CV] END bootstrap=True, criterion=gini, max_depth=None, max_features=sqrt, min_samples_leaf=0.1, min_samples_split=5, n_estimators=400; total time=   1.4s\n",
      "[CV] END bootstrap=True, criterion=gini, max_depth=None, max_features=sqrt, min_samples_leaf=0.1, min_samples_split=5, n_estimators=400; total time=   1.4s\n",
      "[CV] END bootstrap=True, criterion=gini, max_depth=None, max_features=sqrt, min_samples_leaf=0.1, min_samples_split=5, n_estimators=400; total time=   1.4s\n",
      "[CV] END bootstrap=True, criterion=gini, max_depth=35, max_features=sqrt, min_samples_leaf=0.5, min_samples_split=3, n_estimators=1000; total time=   2.4s\n",
      "[CV] END bootstrap=True, criterion=gini, max_depth=35, max_features=sqrt, min_samples_leaf=0.5, min_samples_split=3, n_estimators=1000; total time=   2.6s\n",
      "[CV] END bootstrap=True, criterion=gini, max_depth=35, max_features=sqrt, min_samples_leaf=0.5, min_samples_split=3, n_estimators=1000; total time=   3.2s\n",
      "[CV] END bootstrap=True, criterion=gini, max_depth=35, max_features=sqrt, min_samples_leaf=0.5, min_samples_split=3, n_estimators=1000; total time=   3.7s\n",
      "[CV] END bootstrap=True, criterion=gini, max_depth=35, max_features=sqrt, min_samples_leaf=0.5, min_samples_split=3, n_estimators=1000; total time=   3.1s\n",
      "[CV] END bootstrap=True, criterion=gini, max_depth=15, max_features=log2, min_samples_leaf=0.5, min_samples_split=2, n_estimators=1400; total time=   4.1s\n",
      "[CV] END bootstrap=True, criterion=gini, max_depth=15, max_features=log2, min_samples_leaf=0.5, min_samples_split=2, n_estimators=1400; total time=   4.1s\n",
      "[CV] END bootstrap=True, criterion=gini, max_depth=15, max_features=log2, min_samples_leaf=0.5, min_samples_split=2, n_estimators=1400; total time=   7.4s\n",
      "[CV] END bootstrap=True, criterion=gini, max_depth=15, max_features=log2, min_samples_leaf=0.5, min_samples_split=2, n_estimators=1400; total time=   4.9s\n",
      "[CV] END bootstrap=True, criterion=gini, max_depth=15, max_features=log2, min_samples_leaf=0.5, min_samples_split=2, n_estimators=1400; total time=   3.9s\n",
      "[CV] END bootstrap=True, criterion=gini, max_depth=30, max_features=log2, min_samples_leaf=0.4, min_samples_split=1, n_estimators=1200; total time=   0.4s\n",
      "[CV] END bootstrap=True, criterion=gini, max_depth=30, max_features=log2, min_samples_leaf=0.4, min_samples_split=1, n_estimators=1200; total time=   0.4s\n",
      "[CV] END bootstrap=True, criterion=gini, max_depth=30, max_features=log2, min_samples_leaf=0.4, min_samples_split=1, n_estimators=1200; total time=   0.5s\n",
      "[CV] END bootstrap=True, criterion=gini, max_depth=30, max_features=log2, min_samples_leaf=0.4, min_samples_split=1, n_estimators=1200; total time=   0.6s\n",
      "[CV] END bootstrap=True, criterion=gini, max_depth=30, max_features=log2, min_samples_leaf=0.4, min_samples_split=1, n_estimators=1200; total time=   0.7s\n",
      "[CV] END bootstrap=True, criterion=gini, max_depth=30, max_features=log2, min_samples_leaf=0.1, min_samples_split=3, n_estimators=1200; total time=   6.0s\n",
      "[CV] END bootstrap=True, criterion=gini, max_depth=30, max_features=log2, min_samples_leaf=0.1, min_samples_split=3, n_estimators=1200; total time=   5.1s\n",
      "[CV] END bootstrap=True, criterion=gini, max_depth=30, max_features=log2, min_samples_leaf=0.1, min_samples_split=3, n_estimators=1200; total time=   6.0s\n",
      "[CV] END bootstrap=True, criterion=gini, max_depth=30, max_features=log2, min_samples_leaf=0.1, min_samples_split=3, n_estimators=1200; total time=   7.0s\n",
      "[CV] END bootstrap=True, criterion=gini, max_depth=30, max_features=log2, min_samples_leaf=0.1, min_samples_split=3, n_estimators=1200; total time=   8.4s\n",
      "[CV] END bootstrap=True, criterion=gini, max_depth=35, max_features=log2, min_samples_leaf=0.5, min_samples_split=2, n_estimators=100; total time=   0.4s\n",
      "[CV] END bootstrap=True, criterion=gini, max_depth=35, max_features=log2, min_samples_leaf=0.5, min_samples_split=2, n_estimators=100; total time=   0.5s\n",
      "[CV] END bootstrap=True, criterion=gini, max_depth=35, max_features=log2, min_samples_leaf=0.5, min_samples_split=2, n_estimators=100; total time=   0.5s\n",
      "[CV] END bootstrap=True, criterion=gini, max_depth=35, max_features=log2, min_samples_leaf=0.5, min_samples_split=2, n_estimators=100; total time=   0.4s\n",
      "[CV] END bootstrap=True, criterion=gini, max_depth=35, max_features=log2, min_samples_leaf=0.5, min_samples_split=2, n_estimators=100; total time=   0.5s\n",
      "[CV] END bootstrap=True, criterion=gini, max_depth=10, max_features=log2, min_samples_leaf=0.2, min_samples_split=5, n_estimators=500; total time=   2.6s\n",
      "[CV] END bootstrap=True, criterion=gini, max_depth=10, max_features=log2, min_samples_leaf=0.2, min_samples_split=5, n_estimators=500; total time=   2.3s\n",
      "[CV] END bootstrap=True, criterion=gini, max_depth=10, max_features=log2, min_samples_leaf=0.2, min_samples_split=5, n_estimators=500; total time=   2.4s\n",
      "[CV] END bootstrap=True, criterion=gini, max_depth=10, max_features=log2, min_samples_leaf=0.2, min_samples_split=5, n_estimators=500; total time=   1.7s\n",
      "[CV] END bootstrap=True, criterion=gini, max_depth=10, max_features=log2, min_samples_leaf=0.2, min_samples_split=5, n_estimators=500; total time=   1.7s\n",
      "[CV] END bootstrap=True, criterion=gini, max_depth=25, max_features=sqrt, min_samples_leaf=0.1, min_samples_split=3, n_estimators=1600; total time=  10.6s\n",
      "[CV] END bootstrap=True, criterion=gini, max_depth=25, max_features=sqrt, min_samples_leaf=0.1, min_samples_split=3, n_estimators=1600; total time=   6.5s\n",
      "[CV] END bootstrap=True, criterion=gini, max_depth=25, max_features=sqrt, min_samples_leaf=0.1, min_samples_split=3, n_estimators=1600; total time=   6.3s\n",
      "[CV] END bootstrap=True, criterion=gini, max_depth=25, max_features=sqrt, min_samples_leaf=0.1, min_samples_split=3, n_estimators=1600; total time=  10.9s\n",
      "[CV] END bootstrap=True, criterion=gini, max_depth=25, max_features=sqrt, min_samples_leaf=0.1, min_samples_split=3, n_estimators=1600; total time=   7.8s\n",
      "[CV] END bootstrap=True, criterion=gini, max_depth=20, max_features=log2, min_samples_leaf=0.4, min_samples_split=5, n_estimators=600; total time=   2.6s\n",
      "[CV] END bootstrap=True, criterion=gini, max_depth=20, max_features=log2, min_samples_leaf=0.4, min_samples_split=5, n_estimators=600; total time=   2.7s\n",
      "[CV] END bootstrap=True, criterion=gini, max_depth=20, max_features=log2, min_samples_leaf=0.4, min_samples_split=5, n_estimators=600; total time=   2.5s\n",
      "[CV] END bootstrap=True, criterion=gini, max_depth=20, max_features=log2, min_samples_leaf=0.4, min_samples_split=5, n_estimators=600; total time=   1.6s\n",
      "[CV] END bootstrap=True, criterion=gini, max_depth=20, max_features=log2, min_samples_leaf=0.4, min_samples_split=5, n_estimators=600; total time=   1.7s\n",
      "[CV] END bootstrap=True, criterion=gini, max_depth=35, max_features=log2, min_samples_leaf=0.4, min_samples_split=5, n_estimators=1700; total time=   3.9s\n"
     ]
    },
    {
     "name": "stdout",
     "output_type": "stream",
     "text": [
      "[CV] END bootstrap=True, criterion=gini, max_depth=35, max_features=log2, min_samples_leaf=0.4, min_samples_split=5, n_estimators=1700; total time=   3.8s\n",
      "[CV] END bootstrap=True, criterion=gini, max_depth=35, max_features=log2, min_samples_leaf=0.4, min_samples_split=5, n_estimators=1700; total time=   3.9s\n",
      "[CV] END bootstrap=True, criterion=gini, max_depth=35, max_features=log2, min_samples_leaf=0.4, min_samples_split=5, n_estimators=1700; total time=   3.9s\n",
      "[CV] END bootstrap=True, criterion=gini, max_depth=35, max_features=log2, min_samples_leaf=0.4, min_samples_split=5, n_estimators=1700; total time=   8.7s\n",
      "[CV] END bootstrap=True, criterion=gini, max_depth=45, max_features=sqrt, min_samples_leaf=0.2, min_samples_split=4, n_estimators=700; total time=   4.8s\n",
      "[CV] END bootstrap=True, criterion=gini, max_depth=45, max_features=sqrt, min_samples_leaf=0.2, min_samples_split=4, n_estimators=700; total time=   3.4s\n",
      "[CV] END bootstrap=True, criterion=gini, max_depth=45, max_features=sqrt, min_samples_leaf=0.2, min_samples_split=4, n_estimators=700; total time=   2.4s\n",
      "[CV] END bootstrap=True, criterion=gini, max_depth=45, max_features=sqrt, min_samples_leaf=0.2, min_samples_split=4, n_estimators=700; total time=   2.4s\n",
      "[CV] END bootstrap=True, criterion=gini, max_depth=45, max_features=sqrt, min_samples_leaf=0.2, min_samples_split=4, n_estimators=700; total time=   2.3s\n",
      "[CV] END bootstrap=True, criterion=gini, max_depth=50, max_features=log2, min_samples_leaf=0.3, min_samples_split=4, n_estimators=1500; total time=   5.1s\n",
      "[CV] END bootstrap=True, criterion=gini, max_depth=50, max_features=log2, min_samples_leaf=0.3, min_samples_split=4, n_estimators=1500; total time=   4.8s\n",
      "[CV] END bootstrap=True, criterion=gini, max_depth=50, max_features=log2, min_samples_leaf=0.3, min_samples_split=4, n_estimators=1500; total time=   5.0s\n",
      "[CV] END bootstrap=True, criterion=gini, max_depth=50, max_features=log2, min_samples_leaf=0.3, min_samples_split=4, n_estimators=1500; total time=   7.5s\n",
      "[CV] END bootstrap=True, criterion=gini, max_depth=50, max_features=log2, min_samples_leaf=0.3, min_samples_split=4, n_estimators=1500; total time=   8.8s\n",
      "[CV] END bootstrap=True, criterion=gini, max_depth=15, max_features=sqrt, min_samples_leaf=0.1, min_samples_split=3, n_estimators=1900; total time=   9.6s\n",
      "[CV] END bootstrap=True, criterion=gini, max_depth=15, max_features=sqrt, min_samples_leaf=0.1, min_samples_split=3, n_estimators=1900; total time=  21.8s\n",
      "[CV] END bootstrap=True, criterion=gini, max_depth=15, max_features=sqrt, min_samples_leaf=0.1, min_samples_split=3, n_estimators=1900; total time=  18.3s\n",
      "[CV] END bootstrap=True, criterion=gini, max_depth=15, max_features=sqrt, min_samples_leaf=0.1, min_samples_split=3, n_estimators=1900; total time=  16.3s\n",
      "[CV] END bootstrap=True, criterion=gini, max_depth=15, max_features=sqrt, min_samples_leaf=0.1, min_samples_split=3, n_estimators=1900; total time=  19.0s\n",
      "[CV] END bootstrap=True, criterion=gini, max_depth=40, max_features=sqrt, min_samples_leaf=0.4, min_samples_split=3, n_estimators=1000; total time=   7.6s\n",
      "[CV] END bootstrap=True, criterion=gini, max_depth=40, max_features=sqrt, min_samples_leaf=0.4, min_samples_split=3, n_estimators=1000; total time=   4.9s\n",
      "[CV] END bootstrap=True, criterion=gini, max_depth=40, max_features=sqrt, min_samples_leaf=0.4, min_samples_split=3, n_estimators=1000; total time=   3.7s\n",
      "[CV] END bootstrap=True, criterion=gini, max_depth=40, max_features=sqrt, min_samples_leaf=0.4, min_samples_split=3, n_estimators=1000; total time=   4.7s\n",
      "[CV] END bootstrap=True, criterion=gini, max_depth=40, max_features=sqrt, min_samples_leaf=0.4, min_samples_split=3, n_estimators=1000; total time=   3.7s\n",
      "[CV] END bootstrap=True, criterion=gini, max_depth=15, max_features=log2, min_samples_leaf=0.1, min_samples_split=3, n_estimators=800; total time=   4.0s\n",
      "[CV] END bootstrap=True, criterion=gini, max_depth=15, max_features=log2, min_samples_leaf=0.1, min_samples_split=3, n_estimators=800; total time=   4.2s\n",
      "[CV] END bootstrap=True, criterion=gini, max_depth=15, max_features=log2, min_samples_leaf=0.1, min_samples_split=3, n_estimators=800; total time=   4.6s\n",
      "[CV] END bootstrap=True, criterion=gini, max_depth=15, max_features=log2, min_samples_leaf=0.1, min_samples_split=3, n_estimators=800; total time=   4.0s\n",
      "[CV] END bootstrap=True, criterion=gini, max_depth=15, max_features=log2, min_samples_leaf=0.1, min_samples_split=3, n_estimators=800; total time=   5.8s\n",
      "[CV] END bootstrap=True, criterion=gini, max_depth=15, max_features=sqrt, min_samples_leaf=0.3, min_samples_split=3, n_estimators=800; total time=   5.9s\n",
      "[CV] END bootstrap=True, criterion=gini, max_depth=15, max_features=sqrt, min_samples_leaf=0.3, min_samples_split=3, n_estimators=800; total time=   3.7s\n",
      "[CV] END bootstrap=True, criterion=gini, max_depth=15, max_features=sqrt, min_samples_leaf=0.3, min_samples_split=3, n_estimators=800; total time=   2.7s\n",
      "[CV] END bootstrap=True, criterion=gini, max_depth=15, max_features=sqrt, min_samples_leaf=0.3, min_samples_split=3, n_estimators=800; total time=   4.8s\n",
      "[CV] END bootstrap=True, criterion=gini, max_depth=15, max_features=sqrt, min_samples_leaf=0.3, min_samples_split=3, n_estimators=800; total time=   4.7s\n",
      "[CV] END bootstrap=True, criterion=gini, max_depth=50, max_features=log2, min_samples_leaf=0.2, min_samples_split=4, n_estimators=800; total time=   4.9s\n",
      "[CV] END bootstrap=True, criterion=gini, max_depth=50, max_features=log2, min_samples_leaf=0.2, min_samples_split=4, n_estimators=800; total time=   3.7s\n",
      "[CV] END bootstrap=True, criterion=gini, max_depth=50, max_features=log2, min_samples_leaf=0.2, min_samples_split=4, n_estimators=800; total time=   3.7s\n",
      "[CV] END bootstrap=True, criterion=gini, max_depth=50, max_features=log2, min_samples_leaf=0.2, min_samples_split=4, n_estimators=800; total time=   6.6s\n",
      "[CV] END bootstrap=True, criterion=gini, max_depth=50, max_features=log2, min_samples_leaf=0.2, min_samples_split=4, n_estimators=800; total time=   4.8s\n",
      "[CV] END bootstrap=True, criterion=gini, max_depth=50, max_features=sqrt, min_samples_leaf=0.5, min_samples_split=5, n_estimators=1900; total time=  13.0s\n",
      "[CV] END bootstrap=True, criterion=gini, max_depth=50, max_features=sqrt, min_samples_leaf=0.5, min_samples_split=5, n_estimators=1900; total time=   9.0s\n",
      "[CV] END bootstrap=True, criterion=gini, max_depth=50, max_features=sqrt, min_samples_leaf=0.5, min_samples_split=5, n_estimators=1900; total time=   5.9s\n",
      "[CV] END bootstrap=True, criterion=gini, max_depth=50, max_features=sqrt, min_samples_leaf=0.5, min_samples_split=5, n_estimators=1900; total time=   6.9s\n",
      "[CV] END bootstrap=True, criterion=gini, max_depth=50, max_features=sqrt, min_samples_leaf=0.5, min_samples_split=5, n_estimators=1900; total time=   5.8s\n",
      "[CV] END bootstrap=True, criterion=gini, max_depth=5, max_features=log2, min_samples_leaf=0.2, min_samples_split=5, n_estimators=1000; total time=   6.2s\n",
      "[CV] END bootstrap=True, criterion=gini, max_depth=5, max_features=log2, min_samples_leaf=0.2, min_samples_split=5, n_estimators=1000; total time=   4.9s\n",
      "[CV] END bootstrap=True, criterion=gini, max_depth=5, max_features=log2, min_samples_leaf=0.2, min_samples_split=5, n_estimators=1000; total time=   6.2s\n",
      "[CV] END bootstrap=True, criterion=gini, max_depth=5, max_features=log2, min_samples_leaf=0.2, min_samples_split=5, n_estimators=1000; total time=   7.0s\n",
      "[CV] END bootstrap=True, criterion=gini, max_depth=5, max_features=log2, min_samples_leaf=0.2, min_samples_split=5, n_estimators=1000; total time=   7.5s\n",
      "[CV] END bootstrap=True, criterion=gini, max_depth=15, max_features=sqrt, min_samples_leaf=0.3, min_samples_split=2, n_estimators=1500; total time=   7.5s\n",
      "[CV] END bootstrap=True, criterion=gini, max_depth=15, max_features=sqrt, min_samples_leaf=0.3, min_samples_split=2, n_estimators=1500; total time=   7.1s\n",
      "[CV] END bootstrap=True, criterion=gini, max_depth=15, max_features=sqrt, min_samples_leaf=0.3, min_samples_split=2, n_estimators=1500; total time=   7.7s\n",
      "[CV] END bootstrap=True, criterion=gini, max_depth=15, max_features=sqrt, min_samples_leaf=0.3, min_samples_split=2, n_estimators=1500; total time=  14.7s\n",
      "[CV] END bootstrap=True, criterion=gini, max_depth=15, max_features=sqrt, min_samples_leaf=0.3, min_samples_split=2, n_estimators=1500; total time=   9.6s\n"
     ]
    },
    {
     "name": "stdout",
     "output_type": "stream",
     "text": [
      "[CV] END bootstrap=True, criterion=gini, max_depth=20, max_features=log2, min_samples_leaf=0.1, min_samples_split=1, n_estimators=600; total time=   0.3s\n",
      "[CV] END bootstrap=True, criterion=gini, max_depth=20, max_features=log2, min_samples_leaf=0.1, min_samples_split=1, n_estimators=600; total time=   0.3s\n",
      "[CV] END bootstrap=True, criterion=gini, max_depth=20, max_features=log2, min_samples_leaf=0.1, min_samples_split=1, n_estimators=600; total time=   0.3s\n",
      "[CV] END bootstrap=True, criterion=gini, max_depth=20, max_features=log2, min_samples_leaf=0.1, min_samples_split=1, n_estimators=600; total time=   0.3s\n",
      "[CV] END bootstrap=True, criterion=gini, max_depth=20, max_features=log2, min_samples_leaf=0.1, min_samples_split=1, n_estimators=600; total time=   0.4s\n",
      "[CV] END bootstrap=True, criterion=gini, max_depth=25, max_features=sqrt, min_samples_leaf=0.2, min_samples_split=3, n_estimators=1900; total time=  12.6s\n",
      "[CV] END bootstrap=True, criterion=gini, max_depth=25, max_features=sqrt, min_samples_leaf=0.2, min_samples_split=3, n_estimators=1900; total time=  11.6s\n",
      "[CV] END bootstrap=True, criterion=gini, max_depth=25, max_features=sqrt, min_samples_leaf=0.2, min_samples_split=3, n_estimators=1900; total time=  10.0s\n",
      "[CV] END bootstrap=True, criterion=gini, max_depth=25, max_features=sqrt, min_samples_leaf=0.2, min_samples_split=3, n_estimators=1900; total time=   8.4s\n",
      "[CV] END bootstrap=True, criterion=gini, max_depth=25, max_features=sqrt, min_samples_leaf=0.2, min_samples_split=3, n_estimators=1900; total time=  10.1s\n",
      "[CV] END bootstrap=True, criterion=gini, max_depth=10, max_features=sqrt, min_samples_leaf=0.4, min_samples_split=5, n_estimators=2000; total time=   8.1s\n",
      "[CV] END bootstrap=True, criterion=gini, max_depth=10, max_features=sqrt, min_samples_leaf=0.4, min_samples_split=5, n_estimators=2000; total time=   8.7s\n",
      "[CV] END bootstrap=True, criterion=gini, max_depth=10, max_features=sqrt, min_samples_leaf=0.4, min_samples_split=5, n_estimators=2000; total time=   7.5s\n",
      "[CV] END bootstrap=True, criterion=gini, max_depth=10, max_features=sqrt, min_samples_leaf=0.4, min_samples_split=5, n_estimators=2000; total time=   7.4s\n",
      "[CV] END bootstrap=True, criterion=gini, max_depth=10, max_features=sqrt, min_samples_leaf=0.4, min_samples_split=5, n_estimators=2000; total time=  10.0s\n",
      "[CV] END bootstrap=True, criterion=gini, max_depth=40, max_features=sqrt, min_samples_leaf=0.3, min_samples_split=2, n_estimators=1500; total time=   8.6s\n",
      "[CV] END bootstrap=True, criterion=gini, max_depth=40, max_features=sqrt, min_samples_leaf=0.3, min_samples_split=2, n_estimators=1500; total time=  10.0s\n",
      "[CV] END bootstrap=True, criterion=gini, max_depth=40, max_features=sqrt, min_samples_leaf=0.3, min_samples_split=2, n_estimators=1500; total time=   6.4s\n",
      "[CV] END bootstrap=True, criterion=gini, max_depth=40, max_features=sqrt, min_samples_leaf=0.3, min_samples_split=2, n_estimators=1500; total time=   6.6s\n",
      "[CV] END bootstrap=True, criterion=gini, max_depth=40, max_features=sqrt, min_samples_leaf=0.3, min_samples_split=2, n_estimators=1500; total time=   6.5s\n",
      "[CV] END bootstrap=True, criterion=gini, max_depth=10, max_features=log2, min_samples_leaf=0.3, min_samples_split=4, n_estimators=800; total time=   3.0s\n",
      "[CV] END bootstrap=True, criterion=gini, max_depth=10, max_features=log2, min_samples_leaf=0.3, min_samples_split=4, n_estimators=800; total time=   3.2s\n",
      "[CV] END bootstrap=True, criterion=gini, max_depth=10, max_features=log2, min_samples_leaf=0.3, min_samples_split=4, n_estimators=800; total time=   3.2s\n",
      "[CV] END bootstrap=True, criterion=gini, max_depth=10, max_features=log2, min_samples_leaf=0.3, min_samples_split=4, n_estimators=800; total time=   3.3s\n",
      "[CV] END bootstrap=True, criterion=gini, max_depth=10, max_features=log2, min_samples_leaf=0.3, min_samples_split=4, n_estimators=800; total time=   3.4s\n",
      "[CV] END bootstrap=True, criterion=gini, max_depth=10, max_features=sqrt, min_samples_leaf=0.1, min_samples_split=2, n_estimators=900; total time=   4.9s\n",
      "[CV] END bootstrap=True, criterion=gini, max_depth=10, max_features=sqrt, min_samples_leaf=0.1, min_samples_split=2, n_estimators=900; total time=   4.7s\n",
      "[CV] END bootstrap=True, criterion=gini, max_depth=10, max_features=sqrt, min_samples_leaf=0.1, min_samples_split=2, n_estimators=900; total time=   4.7s\n",
      "[CV] END bootstrap=True, criterion=gini, max_depth=10, max_features=sqrt, min_samples_leaf=0.1, min_samples_split=2, n_estimators=900; total time=   4.5s\n",
      "[CV] END bootstrap=True, criterion=gini, max_depth=10, max_features=sqrt, min_samples_leaf=0.1, min_samples_split=2, n_estimators=900; total time=   4.4s\n",
      "[CV] END bootstrap=True, criterion=gini, max_depth=20, max_features=sqrt, min_samples_leaf=0.1, min_samples_split=3, n_estimators=1700; total time=   8.7s\n",
      "[CV] END bootstrap=True, criterion=gini, max_depth=20, max_features=sqrt, min_samples_leaf=0.1, min_samples_split=3, n_estimators=1700; total time=   9.2s\n",
      "[CV] END bootstrap=True, criterion=gini, max_depth=20, max_features=sqrt, min_samples_leaf=0.1, min_samples_split=3, n_estimators=1700; total time=   8.4s\n",
      "[CV] END bootstrap=True, criterion=gini, max_depth=20, max_features=sqrt, min_samples_leaf=0.1, min_samples_split=3, n_estimators=1700; total time=   8.3s\n",
      "[CV] END bootstrap=True, criterion=gini, max_depth=20, max_features=sqrt, min_samples_leaf=0.1, min_samples_split=3, n_estimators=1700; total time=   8.4s\n",
      "[CV] END bootstrap=True, criterion=gini, max_depth=20, max_features=sqrt, min_samples_leaf=0.4, min_samples_split=5, n_estimators=1100; total time=   3.9s\n",
      "[CV] END bootstrap=True, criterion=gini, max_depth=20, max_features=sqrt, min_samples_leaf=0.4, min_samples_split=5, n_estimators=1100; total time=   3.6s\n",
      "[CV] END bootstrap=True, criterion=gini, max_depth=20, max_features=sqrt, min_samples_leaf=0.4, min_samples_split=5, n_estimators=1100; total time=   3.6s\n",
      "[CV] END bootstrap=True, criterion=gini, max_depth=20, max_features=sqrt, min_samples_leaf=0.4, min_samples_split=5, n_estimators=1100; total time=   3.9s\n",
      "[CV] END bootstrap=True, criterion=gini, max_depth=20, max_features=sqrt, min_samples_leaf=0.4, min_samples_split=5, n_estimators=1100; total time=   4.1s\n",
      "[CV] END bootstrap=True, criterion=gini, max_depth=45, max_features=sqrt, min_samples_leaf=0.4, min_samples_split=2, n_estimators=1900; total time=  14.5s\n",
      "[CV] END bootstrap=True, criterion=gini, max_depth=45, max_features=sqrt, min_samples_leaf=0.4, min_samples_split=2, n_estimators=1900; total time=  10.0s\n",
      "[CV] END bootstrap=True, criterion=gini, max_depth=45, max_features=sqrt, min_samples_leaf=0.4, min_samples_split=2, n_estimators=1900; total time=   8.7s\n",
      "[CV] END bootstrap=True, criterion=gini, max_depth=45, max_features=sqrt, min_samples_leaf=0.4, min_samples_split=2, n_estimators=1900; total time=   6.3s\n",
      "[CV] END bootstrap=True, criterion=gini, max_depth=45, max_features=sqrt, min_samples_leaf=0.4, min_samples_split=2, n_estimators=1900; total time=   7.9s\n",
      "[CV] END bootstrap=True, criterion=gini, max_depth=30, max_features=log2, min_samples_leaf=0.4, min_samples_split=5, n_estimators=1400; total time=   3.8s\n",
      "[CV] END bootstrap=True, criterion=gini, max_depth=30, max_features=log2, min_samples_leaf=0.4, min_samples_split=5, n_estimators=1400; total time=   3.8s\n",
      "[CV] END bootstrap=True, criterion=gini, max_depth=30, max_features=log2, min_samples_leaf=0.4, min_samples_split=5, n_estimators=1400; total time=   5.3s\n",
      "[CV] END bootstrap=True, criterion=gini, max_depth=30, max_features=log2, min_samples_leaf=0.4, min_samples_split=5, n_estimators=1400; total time=   4.9s\n",
      "[CV] END bootstrap=True, criterion=gini, max_depth=30, max_features=log2, min_samples_leaf=0.4, min_samples_split=5, n_estimators=1400; total time=   5.1s\n",
      "[CV] END bootstrap=True, criterion=gini, max_depth=None, max_features=sqrt, min_samples_leaf=0.2, min_samples_split=2, n_estimators=800; total time=   2.9s\n",
      "[CV] END bootstrap=True, criterion=gini, max_depth=None, max_features=sqrt, min_samples_leaf=0.2, min_samples_split=2, n_estimators=800; total time=   3.5s\n",
      "[CV] END bootstrap=True, criterion=gini, max_depth=None, max_features=sqrt, min_samples_leaf=0.2, min_samples_split=2, n_estimators=800; total time=   3.3s\n"
     ]
    },
    {
     "name": "stdout",
     "output_type": "stream",
     "text": [
      "[CV] END bootstrap=True, criterion=gini, max_depth=None, max_features=sqrt, min_samples_leaf=0.2, min_samples_split=2, n_estimators=800; total time=   4.2s\n",
      "[CV] END bootstrap=True, criterion=gini, max_depth=None, max_features=sqrt, min_samples_leaf=0.2, min_samples_split=2, n_estimators=800; total time=   4.8s\n",
      "[CV] END bootstrap=True, criterion=gini, max_depth=45, max_features=sqrt, min_samples_leaf=0.3, min_samples_split=5, n_estimators=1300; total time=   6.1s\n",
      "[CV] END bootstrap=True, criterion=gini, max_depth=45, max_features=sqrt, min_samples_leaf=0.3, min_samples_split=5, n_estimators=1300; total time=   5.4s\n",
      "[CV] END bootstrap=True, criterion=gini, max_depth=45, max_features=sqrt, min_samples_leaf=0.3, min_samples_split=5, n_estimators=1300; total time=   9.8s\n",
      "[CV] END bootstrap=True, criterion=gini, max_depth=45, max_features=sqrt, min_samples_leaf=0.3, min_samples_split=5, n_estimators=1300; total time=  11.2s\n",
      "[CV] END bootstrap=True, criterion=gini, max_depth=45, max_features=sqrt, min_samples_leaf=0.3, min_samples_split=5, n_estimators=1300; total time=   8.6s\n",
      "[CV] END bootstrap=True, criterion=gini, max_depth=None, max_features=sqrt, min_samples_leaf=0.1, min_samples_split=3, n_estimators=1600; total time=  11.4s\n",
      "[CV] END bootstrap=True, criterion=gini, max_depth=None, max_features=sqrt, min_samples_leaf=0.1, min_samples_split=3, n_estimators=1600; total time=  10.5s\n",
      "[CV] END bootstrap=True, criterion=gini, max_depth=None, max_features=sqrt, min_samples_leaf=0.1, min_samples_split=3, n_estimators=1600; total time=  10.3s\n",
      "[CV] END bootstrap=True, criterion=gini, max_depth=None, max_features=sqrt, min_samples_leaf=0.1, min_samples_split=3, n_estimators=1600; total time=  10.9s\n",
      "[CV] END bootstrap=True, criterion=gini, max_depth=None, max_features=sqrt, min_samples_leaf=0.1, min_samples_split=3, n_estimators=1600; total time=  10.7s\n",
      "[CV] END bootstrap=True, criterion=gini, max_depth=None, max_features=log2, min_samples_leaf=0.3, min_samples_split=3, n_estimators=1400; total time=   7.4s\n",
      "[CV] END bootstrap=True, criterion=gini, max_depth=None, max_features=log2, min_samples_leaf=0.3, min_samples_split=3, n_estimators=1400; total time=   8.1s\n",
      "[CV] END bootstrap=True, criterion=gini, max_depth=None, max_features=log2, min_samples_leaf=0.3, min_samples_split=3, n_estimators=1400; total time=   7.3s\n",
      "[CV] END bootstrap=True, criterion=gini, max_depth=None, max_features=log2, min_samples_leaf=0.3, min_samples_split=3, n_estimators=1400; total time=   7.7s\n",
      "[CV] END bootstrap=True, criterion=gini, max_depth=None, max_features=log2, min_samples_leaf=0.3, min_samples_split=3, n_estimators=1400; total time=   7.2s\n",
      "[CV] END bootstrap=True, criterion=gini, max_depth=45, max_features=log2, min_samples_leaf=0.5, min_samples_split=2, n_estimators=1400; total time=   6.4s\n",
      "[CV] END bootstrap=True, criterion=gini, max_depth=45, max_features=log2, min_samples_leaf=0.5, min_samples_split=2, n_estimators=1400; total time=   6.2s\n",
      "[CV] END bootstrap=True, criterion=gini, max_depth=45, max_features=log2, min_samples_leaf=0.5, min_samples_split=2, n_estimators=1400; total time=   6.6s\n",
      "[CV] END bootstrap=True, criterion=gini, max_depth=45, max_features=log2, min_samples_leaf=0.5, min_samples_split=2, n_estimators=1400; total time=   7.5s\n",
      "[CV] END bootstrap=True, criterion=gini, max_depth=45, max_features=log2, min_samples_leaf=0.5, min_samples_split=2, n_estimators=1400; total time=   6.6s\n",
      "[CV] END bootstrap=True, criterion=gini, max_depth=None, max_features=log2, min_samples_leaf=0.3, min_samples_split=2, n_estimators=1400; total time=   7.3s\n",
      "[CV] END bootstrap=True, criterion=gini, max_depth=None, max_features=log2, min_samples_leaf=0.3, min_samples_split=2, n_estimators=1400; total time=   7.4s\n",
      "[CV] END bootstrap=True, criterion=gini, max_depth=None, max_features=log2, min_samples_leaf=0.3, min_samples_split=2, n_estimators=1400; total time=   6.9s\n",
      "[CV] END bootstrap=True, criterion=gini, max_depth=None, max_features=log2, min_samples_leaf=0.3, min_samples_split=2, n_estimators=1400; total time=   8.0s\n",
      "[CV] END bootstrap=True, criterion=gini, max_depth=None, max_features=log2, min_samples_leaf=0.3, min_samples_split=2, n_estimators=1400; total time=   7.3s\n",
      "[CV] END bootstrap=True, criterion=gini, max_depth=40, max_features=sqrt, min_samples_leaf=0.1, min_samples_split=1, n_estimators=1400; total time=   0.8s\n",
      "[CV] END bootstrap=True, criterion=gini, max_depth=40, max_features=sqrt, min_samples_leaf=0.1, min_samples_split=1, n_estimators=1400; total time=   0.8s\n",
      "[CV] END bootstrap=True, criterion=gini, max_depth=40, max_features=sqrt, min_samples_leaf=0.1, min_samples_split=1, n_estimators=1400; total time=   0.7s\n",
      "[CV] END bootstrap=True, criterion=gini, max_depth=40, max_features=sqrt, min_samples_leaf=0.1, min_samples_split=1, n_estimators=1400; total time=   0.9s\n",
      "[CV] END bootstrap=True, criterion=gini, max_depth=40, max_features=sqrt, min_samples_leaf=0.1, min_samples_split=1, n_estimators=1400; total time=   1.9s\n",
      "[CV] END bootstrap=True, criterion=gini, max_depth=15, max_features=sqrt, min_samples_leaf=0.2, min_samples_split=1, n_estimators=1300; total time=   1.0s\n",
      "[CV] END bootstrap=True, criterion=gini, max_depth=15, max_features=sqrt, min_samples_leaf=0.2, min_samples_split=1, n_estimators=1300; total time=   0.7s\n",
      "[CV] END bootstrap=True, criterion=gini, max_depth=15, max_features=sqrt, min_samples_leaf=0.2, min_samples_split=1, n_estimators=1300; total time=   1.1s\n",
      "[CV] END bootstrap=True, criterion=gini, max_depth=15, max_features=sqrt, min_samples_leaf=0.2, min_samples_split=1, n_estimators=1300; total time=   0.8s\n",
      "[CV] END bootstrap=True, criterion=gini, max_depth=15, max_features=sqrt, min_samples_leaf=0.2, min_samples_split=1, n_estimators=1300; total time=   0.8s\n",
      "[CV] END bootstrap=True, criterion=gini, max_depth=40, max_features=log2, min_samples_leaf=0.1, min_samples_split=3, n_estimators=200; total time=   1.2s\n",
      "[CV] END bootstrap=True, criterion=gini, max_depth=40, max_features=log2, min_samples_leaf=0.1, min_samples_split=3, n_estimators=200; total time=   1.1s\n",
      "[CV] END bootstrap=True, criterion=gini, max_depth=40, max_features=log2, min_samples_leaf=0.1, min_samples_split=3, n_estimators=200; total time=   1.4s\n",
      "[CV] END bootstrap=True, criterion=gini, max_depth=40, max_features=log2, min_samples_leaf=0.1, min_samples_split=3, n_estimators=200; total time=   1.7s\n",
      "[CV] END bootstrap=True, criterion=gini, max_depth=40, max_features=log2, min_samples_leaf=0.1, min_samples_split=3, n_estimators=200; total time=   1.5s\n",
      "[CV] END bootstrap=True, criterion=gini, max_depth=50, max_features=sqrt, min_samples_leaf=0.1, min_samples_split=3, n_estimators=1600; total time=  11.3s\n",
      "[CV] END bootstrap=True, criterion=gini, max_depth=50, max_features=sqrt, min_samples_leaf=0.1, min_samples_split=3, n_estimators=1600; total time=  11.3s\n",
      "[CV] END bootstrap=True, criterion=gini, max_depth=50, max_features=sqrt, min_samples_leaf=0.1, min_samples_split=3, n_estimators=1600; total time=  10.4s\n",
      "[CV] END bootstrap=True, criterion=gini, max_depth=50, max_features=sqrt, min_samples_leaf=0.1, min_samples_split=3, n_estimators=1600; total time=  11.2s\n",
      "[CV] END bootstrap=True, criterion=gini, max_depth=50, max_features=sqrt, min_samples_leaf=0.1, min_samples_split=3, n_estimators=1600; total time=  12.4s\n",
      "[CV] END bootstrap=True, criterion=gini, max_depth=35, max_features=log2, min_samples_leaf=0.3, min_samples_split=2, n_estimators=1600; total time=  11.1s\n",
      "[CV] END bootstrap=True, criterion=gini, max_depth=35, max_features=log2, min_samples_leaf=0.3, min_samples_split=2, n_estimators=1600; total time=   6.0s\n",
      "[CV] END bootstrap=True, criterion=gini, max_depth=35, max_features=log2, min_samples_leaf=0.3, min_samples_split=2, n_estimators=1600; total time=   7.6s\n",
      "[CV] END bootstrap=True, criterion=gini, max_depth=35, max_features=log2, min_samples_leaf=0.3, min_samples_split=2, n_estimators=1600; total time=   9.3s\n",
      "[CV] END bootstrap=True, criterion=gini, max_depth=35, max_features=log2, min_samples_leaf=0.3, min_samples_split=2, n_estimators=1600; total time=   9.1s\n",
      "[CV] END bootstrap=True, criterion=gini, max_depth=30, max_features=log2, min_samples_leaf=0.5, min_samples_split=5, n_estimators=700; total time=   3.8s\n"
     ]
    },
    {
     "name": "stdout",
     "output_type": "stream",
     "text": [
      "[CV] END bootstrap=True, criterion=gini, max_depth=30, max_features=log2, min_samples_leaf=0.5, min_samples_split=5, n_estimators=700; total time=   2.4s\n",
      "[CV] END bootstrap=True, criterion=gini, max_depth=30, max_features=log2, min_samples_leaf=0.5, min_samples_split=5, n_estimators=700; total time=   4.6s\n",
      "[CV] END bootstrap=True, criterion=gini, max_depth=30, max_features=log2, min_samples_leaf=0.5, min_samples_split=5, n_estimators=700; total time=   6.2s\n",
      "[CV] END bootstrap=True, criterion=gini, max_depth=30, max_features=log2, min_samples_leaf=0.5, min_samples_split=5, n_estimators=700; total time=   4.1s\n",
      "[CV] END bootstrap=True, criterion=gini, max_depth=40, max_features=log2, min_samples_leaf=0.1, min_samples_split=5, n_estimators=2000; total time=  14.2s\n",
      "[CV] END bootstrap=True, criterion=gini, max_depth=40, max_features=log2, min_samples_leaf=0.1, min_samples_split=5, n_estimators=2000; total time=  14.7s\n",
      "[CV] END bootstrap=True, criterion=gini, max_depth=40, max_features=log2, min_samples_leaf=0.1, min_samples_split=5, n_estimators=2000; total time=  14.5s\n",
      "[CV] END bootstrap=True, criterion=gini, max_depth=40, max_features=log2, min_samples_leaf=0.1, min_samples_split=5, n_estimators=2000; total time=  14.2s\n",
      "[CV] END bootstrap=True, criterion=gini, max_depth=40, max_features=log2, min_samples_leaf=0.1, min_samples_split=5, n_estimators=2000; total time=  14.1s\n",
      "[CV] END bootstrap=True, criterion=gini, max_depth=50, max_features=sqrt, min_samples_leaf=0.2, min_samples_split=4, n_estimators=1100; total time=   6.7s\n",
      "[CV] END bootstrap=True, criterion=gini, max_depth=50, max_features=sqrt, min_samples_leaf=0.2, min_samples_split=4, n_estimators=1100; total time=   6.6s\n",
      "[CV] END bootstrap=True, criterion=gini, max_depth=50, max_features=sqrt, min_samples_leaf=0.2, min_samples_split=4, n_estimators=1100; total time=   9.9s\n",
      "[CV] END bootstrap=True, criterion=gini, max_depth=50, max_features=sqrt, min_samples_leaf=0.2, min_samples_split=4, n_estimators=1100; total time=   6.9s\n",
      "[CV] END bootstrap=True, criterion=gini, max_depth=50, max_features=sqrt, min_samples_leaf=0.2, min_samples_split=4, n_estimators=1100; total time=   7.1s\n",
      "[CV] END bootstrap=True, criterion=gini, max_depth=None, max_features=sqrt, min_samples_leaf=0.3, min_samples_split=3, n_estimators=900; total time=   4.3s\n",
      "[CV] END bootstrap=True, criterion=gini, max_depth=None, max_features=sqrt, min_samples_leaf=0.3, min_samples_split=3, n_estimators=900; total time=   4.0s\n",
      "[CV] END bootstrap=True, criterion=gini, max_depth=None, max_features=sqrt, min_samples_leaf=0.3, min_samples_split=3, n_estimators=900; total time=   3.9s\n",
      "[CV] END bootstrap=True, criterion=gini, max_depth=None, max_features=sqrt, min_samples_leaf=0.3, min_samples_split=3, n_estimators=900; total time=   5.5s\n",
      "[CV] END bootstrap=True, criterion=gini, max_depth=None, max_features=sqrt, min_samples_leaf=0.3, min_samples_split=3, n_estimators=900; total time=   4.9s\n",
      "[CV] END bootstrap=True, criterion=gini, max_depth=5, max_features=sqrt, min_samples_leaf=0.3, min_samples_split=4, n_estimators=1600; total time=   6.9s\n",
      "[CV] END bootstrap=True, criterion=gini, max_depth=5, max_features=sqrt, min_samples_leaf=0.3, min_samples_split=4, n_estimators=1600; total time=  13.4s\n",
      "[CV] END bootstrap=True, criterion=gini, max_depth=5, max_features=sqrt, min_samples_leaf=0.3, min_samples_split=4, n_estimators=1600; total time=  12.9s\n",
      "[CV] END bootstrap=True, criterion=gini, max_depth=5, max_features=sqrt, min_samples_leaf=0.3, min_samples_split=4, n_estimators=1600; total time=  10.5s\n",
      "[CV] END bootstrap=True, criterion=gini, max_depth=5, max_features=sqrt, min_samples_leaf=0.3, min_samples_split=4, n_estimators=1600; total time=  17.5s\n",
      "[CV] END bootstrap=True, criterion=gini, max_depth=45, max_features=log2, min_samples_leaf=0.3, min_samples_split=2, n_estimators=700; total time=   7.4s\n",
      "[CV] END bootstrap=True, criterion=gini, max_depth=45, max_features=log2, min_samples_leaf=0.3, min_samples_split=2, n_estimators=700; total time=   5.3s\n",
      "[CV] END bootstrap=True, criterion=gini, max_depth=45, max_features=log2, min_samples_leaf=0.3, min_samples_split=2, n_estimators=700; total time=   3.0s\n",
      "[CV] END bootstrap=True, criterion=gini, max_depth=45, max_features=log2, min_samples_leaf=0.3, min_samples_split=2, n_estimators=700; total time=   7.6s\n",
      "[CV] END bootstrap=True, criterion=gini, max_depth=45, max_features=log2, min_samples_leaf=0.3, min_samples_split=2, n_estimators=700; total time=   7.2s\n",
      "[CV] END bootstrap=True, criterion=gini, max_depth=20, max_features=log2, min_samples_leaf=0.2, min_samples_split=3, n_estimators=1300; total time=  13.8s\n",
      "[CV] END bootstrap=True, criterion=gini, max_depth=20, max_features=log2, min_samples_leaf=0.2, min_samples_split=3, n_estimators=1300; total time=  14.2s\n",
      "[CV] END bootstrap=True, criterion=gini, max_depth=20, max_features=log2, min_samples_leaf=0.2, min_samples_split=3, n_estimators=1300; total time=  12.4s\n",
      "[CV] END bootstrap=True, criterion=gini, max_depth=20, max_features=log2, min_samples_leaf=0.2, min_samples_split=3, n_estimators=1300; total time=   4.9s\n",
      "[CV] END bootstrap=True, criterion=gini, max_depth=20, max_features=log2, min_samples_leaf=0.2, min_samples_split=3, n_estimators=1300; total time=   4.1s\n",
      "[CV] END bootstrap=True, criterion=gini, max_depth=None, max_features=log2, min_samples_leaf=0.2, min_samples_split=3, n_estimators=800; total time=   4.3s\n",
      "[CV] END bootstrap=True, criterion=gini, max_depth=None, max_features=log2, min_samples_leaf=0.2, min_samples_split=3, n_estimators=800; total time=   2.4s\n",
      "[CV] END bootstrap=True, criterion=gini, max_depth=None, max_features=log2, min_samples_leaf=0.2, min_samples_split=3, n_estimators=800; total time=   3.0s\n",
      "[CV] END bootstrap=True, criterion=gini, max_depth=None, max_features=log2, min_samples_leaf=0.2, min_samples_split=3, n_estimators=800; total time=   3.4s\n",
      "[CV] END bootstrap=True, criterion=gini, max_depth=None, max_features=log2, min_samples_leaf=0.2, min_samples_split=3, n_estimators=800; total time=   6.8s\n",
      "[CV] END bootstrap=True, criterion=gini, max_depth=10, max_features=sqrt, min_samples_leaf=0.1, min_samples_split=5, n_estimators=600; total time=   5.4s\n",
      "[CV] END bootstrap=True, criterion=gini, max_depth=10, max_features=sqrt, min_samples_leaf=0.1, min_samples_split=5, n_estimators=600; total time=   2.7s\n",
      "[CV] END bootstrap=True, criterion=gini, max_depth=10, max_features=sqrt, min_samples_leaf=0.1, min_samples_split=5, n_estimators=600; total time=   2.8s\n",
      "[CV] END bootstrap=True, criterion=gini, max_depth=10, max_features=sqrt, min_samples_leaf=0.1, min_samples_split=5, n_estimators=600; total time=   5.1s\n",
      "[CV] END bootstrap=True, criterion=gini, max_depth=10, max_features=sqrt, min_samples_leaf=0.1, min_samples_split=5, n_estimators=600; total time=   6.5s\n",
      "[CV] END bootstrap=True, criterion=gini, max_depth=20, max_features=sqrt, min_samples_leaf=0.5, min_samples_split=3, n_estimators=400; total time=   2.7s\n",
      "[CV] END bootstrap=True, criterion=gini, max_depth=20, max_features=sqrt, min_samples_leaf=0.5, min_samples_split=3, n_estimators=400; total time=   3.4s\n",
      "[CV] END bootstrap=True, criterion=gini, max_depth=20, max_features=sqrt, min_samples_leaf=0.5, min_samples_split=3, n_estimators=400; total time=   3.6s\n",
      "[CV] END bootstrap=True, criterion=gini, max_depth=20, max_features=sqrt, min_samples_leaf=0.5, min_samples_split=3, n_estimators=400; total time=   3.7s\n",
      "[CV] END bootstrap=True, criterion=gini, max_depth=20, max_features=sqrt, min_samples_leaf=0.5, min_samples_split=3, n_estimators=400; total time=   3.7s\n",
      "[CV] END bootstrap=True, criterion=gini, max_depth=40, max_features=sqrt, min_samples_leaf=0.1, min_samples_split=3, n_estimators=1600; total time=  20.9s\n",
      "[CV] END bootstrap=True, criterion=gini, max_depth=40, max_features=sqrt, min_samples_leaf=0.1, min_samples_split=3, n_estimators=1600; total time=  20.9s\n",
      "[CV] END bootstrap=True, criterion=gini, max_depth=40, max_features=sqrt, min_samples_leaf=0.1, min_samples_split=3, n_estimators=1600; total time=  18.0s\n",
      "[CV] END bootstrap=True, criterion=gini, max_depth=40, max_features=sqrt, min_samples_leaf=0.1, min_samples_split=3, n_estimators=1600; total time=   7.9s\n"
     ]
    },
    {
     "name": "stdout",
     "output_type": "stream",
     "text": [
      "[CV] END bootstrap=True, criterion=gini, max_depth=40, max_features=sqrt, min_samples_leaf=0.1, min_samples_split=3, n_estimators=1600; total time=   5.9s\n",
      "[CV] END bootstrap=True, criterion=gini, max_depth=20, max_features=log2, min_samples_leaf=0.1, min_samples_split=4, n_estimators=1400; total time=   9.0s\n",
      "[CV] END bootstrap=True, criterion=gini, max_depth=20, max_features=log2, min_samples_leaf=0.1, min_samples_split=4, n_estimators=1400; total time=   9.1s\n",
      "[CV] END bootstrap=True, criterion=gini, max_depth=20, max_features=log2, min_samples_leaf=0.1, min_samples_split=4, n_estimators=1400; total time=   7.3s\n",
      "[CV] END bootstrap=True, criterion=gini, max_depth=20, max_features=log2, min_samples_leaf=0.1, min_samples_split=4, n_estimators=1400; total time=   7.8s\n",
      "[CV] END bootstrap=True, criterion=gini, max_depth=20, max_features=log2, min_samples_leaf=0.1, min_samples_split=4, n_estimators=1400; total time=   5.0s\n",
      "[CV] END bootstrap=True, criterion=gini, max_depth=10, max_features=log2, min_samples_leaf=0.1, min_samples_split=2, n_estimators=200; total time=   0.6s\n",
      "[CV] END bootstrap=True, criterion=gini, max_depth=10, max_features=log2, min_samples_leaf=0.1, min_samples_split=2, n_estimators=200; total time=   0.6s\n",
      "[CV] END bootstrap=True, criterion=gini, max_depth=10, max_features=log2, min_samples_leaf=0.1, min_samples_split=2, n_estimators=200; total time=   0.7s\n",
      "[CV] END bootstrap=True, criterion=gini, max_depth=10, max_features=log2, min_samples_leaf=0.1, min_samples_split=2, n_estimators=200; total time=   0.6s\n",
      "[CV] END bootstrap=True, criterion=gini, max_depth=10, max_features=log2, min_samples_leaf=0.1, min_samples_split=2, n_estimators=200; total time=   0.6s\n",
      "[CV] END bootstrap=True, criterion=gini, max_depth=None, max_features=sqrt, min_samples_leaf=0.4, min_samples_split=1, n_estimators=600; total time=   0.1s\n",
      "[CV] END bootstrap=True, criterion=gini, max_depth=None, max_features=sqrt, min_samples_leaf=0.4, min_samples_split=1, n_estimators=600; total time=   0.2s\n",
      "[CV] END bootstrap=True, criterion=gini, max_depth=None, max_features=sqrt, min_samples_leaf=0.4, min_samples_split=1, n_estimators=600; total time=   0.2s\n",
      "[CV] END bootstrap=True, criterion=gini, max_depth=None, max_features=sqrt, min_samples_leaf=0.4, min_samples_split=1, n_estimators=600; total time=   0.2s\n",
      "[CV] END bootstrap=True, criterion=gini, max_depth=None, max_features=sqrt, min_samples_leaf=0.4, min_samples_split=1, n_estimators=600; total time=   0.5s\n",
      "[CV] END bootstrap=True, criterion=gini, max_depth=20, max_features=sqrt, min_samples_leaf=0.4, min_samples_split=3, n_estimators=400; total time=   2.3s\n",
      "[CV] END bootstrap=True, criterion=gini, max_depth=20, max_features=sqrt, min_samples_leaf=0.4, min_samples_split=3, n_estimators=400; total time=   2.6s\n",
      "[CV] END bootstrap=True, criterion=gini, max_depth=20, max_features=sqrt, min_samples_leaf=0.4, min_samples_split=3, n_estimators=400; total time=   2.7s\n",
      "[CV] END bootstrap=True, criterion=gini, max_depth=20, max_features=sqrt, min_samples_leaf=0.4, min_samples_split=3, n_estimators=400; total time=   2.1s\n",
      "[CV] END bootstrap=True, criterion=gini, max_depth=20, max_features=sqrt, min_samples_leaf=0.4, min_samples_split=3, n_estimators=400; total time=   1.0s\n",
      "[CV] END bootstrap=True, criterion=gini, max_depth=40, max_features=sqrt, min_samples_leaf=0.5, min_samples_split=5, n_estimators=1000; total time=   2.2s\n",
      "[CV] END bootstrap=True, criterion=gini, max_depth=40, max_features=sqrt, min_samples_leaf=0.5, min_samples_split=5, n_estimators=1000; total time=   2.2s\n",
      "[CV] END bootstrap=True, criterion=gini, max_depth=40, max_features=sqrt, min_samples_leaf=0.5, min_samples_split=5, n_estimators=1000; total time=   2.5s\n",
      "[CV] END bootstrap=True, criterion=gini, max_depth=40, max_features=sqrt, min_samples_leaf=0.5, min_samples_split=5, n_estimators=1000; total time=   2.8s\n",
      "[CV] END bootstrap=True, criterion=gini, max_depth=40, max_features=sqrt, min_samples_leaf=0.5, min_samples_split=5, n_estimators=1000; total time=   2.3s\n",
      "[CV] END bootstrap=True, criterion=gini, max_depth=50, max_features=sqrt, min_samples_leaf=0.2, min_samples_split=5, n_estimators=1300; total time=   3.6s\n",
      "[CV] END bootstrap=True, criterion=gini, max_depth=50, max_features=sqrt, min_samples_leaf=0.2, min_samples_split=5, n_estimators=1300; total time=   4.2s\n",
      "[CV] END bootstrap=True, criterion=gini, max_depth=50, max_features=sqrt, min_samples_leaf=0.2, min_samples_split=5, n_estimators=1300; total time=  10.1s\n",
      "[CV] END bootstrap=True, criterion=gini, max_depth=50, max_features=sqrt, min_samples_leaf=0.2, min_samples_split=5, n_estimators=1300; total time=   5.8s\n",
      "[CV] END bootstrap=True, criterion=gini, max_depth=50, max_features=sqrt, min_samples_leaf=0.2, min_samples_split=5, n_estimators=1300; total time=   3.8s\n",
      "[CV] END bootstrap=True, criterion=gini, max_depth=35, max_features=sqrt, min_samples_leaf=0.4, min_samples_split=4, n_estimators=1400; total time=   3.1s\n",
      "[CV] END bootstrap=True, criterion=gini, max_depth=35, max_features=sqrt, min_samples_leaf=0.4, min_samples_split=4, n_estimators=1400; total time=   3.6s\n",
      "[CV] END bootstrap=True, criterion=gini, max_depth=35, max_features=sqrt, min_samples_leaf=0.4, min_samples_split=4, n_estimators=1400; total time=   3.8s\n",
      "[CV] END bootstrap=True, criterion=gini, max_depth=35, max_features=sqrt, min_samples_leaf=0.4, min_samples_split=4, n_estimators=1400; total time=   3.8s\n",
      "[CV] END bootstrap=True, criterion=gini, max_depth=35, max_features=sqrt, min_samples_leaf=0.4, min_samples_split=4, n_estimators=1400; total time=   3.2s\n",
      "[CV] END bootstrap=True, criterion=gini, max_depth=30, max_features=sqrt, min_samples_leaf=0.2, min_samples_split=4, n_estimators=1600; total time=   5.8s\n",
      "[CV] END bootstrap=True, criterion=gini, max_depth=30, max_features=sqrt, min_samples_leaf=0.2, min_samples_split=4, n_estimators=1600; total time=   6.6s\n",
      "[CV] END bootstrap=True, criterion=gini, max_depth=30, max_features=sqrt, min_samples_leaf=0.2, min_samples_split=4, n_estimators=1600; total time=   5.2s\n",
      "[CV] END bootstrap=True, criterion=gini, max_depth=30, max_features=sqrt, min_samples_leaf=0.2, min_samples_split=4, n_estimators=1600; total time=  13.3s\n",
      "[CV] END bootstrap=True, criterion=gini, max_depth=30, max_features=sqrt, min_samples_leaf=0.2, min_samples_split=4, n_estimators=1600; total time=   8.4s\n",
      "[CV] END bootstrap=True, criterion=gini, max_depth=5, max_features=log2, min_samples_leaf=0.2, min_samples_split=4, n_estimators=200; total time=   1.0s\n",
      "[CV] END bootstrap=True, criterion=gini, max_depth=5, max_features=log2, min_samples_leaf=0.2, min_samples_split=4, n_estimators=200; total time=   1.0s\n",
      "[CV] END bootstrap=True, criterion=gini, max_depth=5, max_features=log2, min_samples_leaf=0.2, min_samples_split=4, n_estimators=200; total time=   0.9s\n",
      "[CV] END bootstrap=True, criterion=gini, max_depth=5, max_features=log2, min_samples_leaf=0.2, min_samples_split=4, n_estimators=200; total time=   0.7s\n",
      "[CV] END bootstrap=True, criterion=gini, max_depth=5, max_features=log2, min_samples_leaf=0.2, min_samples_split=4, n_estimators=200; total time=   0.7s\n",
      "[CV] END bootstrap=True, criterion=gini, max_depth=25, max_features=log2, min_samples_leaf=0.3, min_samples_split=5, n_estimators=1800; total time=   6.1s\n",
      "[CV] END bootstrap=True, criterion=gini, max_depth=25, max_features=log2, min_samples_leaf=0.3, min_samples_split=5, n_estimators=1800; total time=   7.1s\n",
      "[CV] END bootstrap=True, criterion=gini, max_depth=25, max_features=log2, min_samples_leaf=0.3, min_samples_split=5, n_estimators=1800; total time=   6.1s\n",
      "[CV] END bootstrap=True, criterion=gini, max_depth=25, max_features=log2, min_samples_leaf=0.3, min_samples_split=5, n_estimators=1800; total time=   6.5s\n",
      "[CV] END bootstrap=True, criterion=gini, max_depth=25, max_features=log2, min_samples_leaf=0.3, min_samples_split=5, n_estimators=1800; total time=   9.0s\n",
      "[CV] END bootstrap=True, criterion=gini, max_depth=None, max_features=log2, min_samples_leaf=0.2, min_samples_split=4, n_estimators=1400; total time=   6.7s\n",
      "[CV] END bootstrap=True, criterion=gini, max_depth=None, max_features=log2, min_samples_leaf=0.2, min_samples_split=4, n_estimators=1400; total time=   4.1s\n"
     ]
    },
    {
     "name": "stdout",
     "output_type": "stream",
     "text": [
      "[CV] END bootstrap=True, criterion=gini, max_depth=None, max_features=log2, min_samples_leaf=0.2, min_samples_split=4, n_estimators=1400; total time=   3.9s\n",
      "[CV] END bootstrap=True, criterion=gini, max_depth=None, max_features=log2, min_samples_leaf=0.2, min_samples_split=4, n_estimators=1400; total time=   4.5s\n",
      "[CV] END bootstrap=True, criterion=gini, max_depth=None, max_features=log2, min_samples_leaf=0.2, min_samples_split=4, n_estimators=1400; total time=   4.4s\n",
      "[CV] END bootstrap=True, criterion=gini, max_depth=5, max_features=sqrt, min_samples_leaf=0.5, min_samples_split=5, n_estimators=1600; total time=   4.7s\n",
      "[CV] END bootstrap=True, criterion=gini, max_depth=5, max_features=sqrt, min_samples_leaf=0.5, min_samples_split=5, n_estimators=1600; total time=   4.1s\n",
      "[CV] END bootstrap=True, criterion=gini, max_depth=5, max_features=sqrt, min_samples_leaf=0.5, min_samples_split=5, n_estimators=1600; total time=   4.4s\n",
      "[CV] END bootstrap=True, criterion=gini, max_depth=5, max_features=sqrt, min_samples_leaf=0.5, min_samples_split=5, n_estimators=1600; total time=   4.7s\n",
      "[CV] END bootstrap=True, criterion=gini, max_depth=5, max_features=sqrt, min_samples_leaf=0.5, min_samples_split=5, n_estimators=1600; total time=   3.7s\n",
      "[CV] END bootstrap=True, criterion=gini, max_depth=40, max_features=sqrt, min_samples_leaf=0.2, min_samples_split=2, n_estimators=1000; total time=   2.7s\n",
      "[CV] END bootstrap=True, criterion=gini, max_depth=40, max_features=sqrt, min_samples_leaf=0.2, min_samples_split=2, n_estimators=1000; total time=   2.8s\n",
      "[CV] END bootstrap=True, criterion=gini, max_depth=40, max_features=sqrt, min_samples_leaf=0.2, min_samples_split=2, n_estimators=1000; total time=   2.7s\n",
      "[CV] END bootstrap=True, criterion=gini, max_depth=40, max_features=sqrt, min_samples_leaf=0.2, min_samples_split=2, n_estimators=1000; total time=   2.7s\n",
      "[CV] END bootstrap=True, criterion=gini, max_depth=40, max_features=sqrt, min_samples_leaf=0.2, min_samples_split=2, n_estimators=1000; total time=   2.8s\n",
      "[CV] END bootstrap=True, criterion=gini, max_depth=50, max_features=log2, min_samples_leaf=0.5, min_samples_split=4, n_estimators=800; total time=   1.7s\n",
      "[CV] END bootstrap=True, criterion=gini, max_depth=50, max_features=log2, min_samples_leaf=0.5, min_samples_split=4, n_estimators=800; total time=   1.7s\n",
      "[CV] END bootstrap=True, criterion=gini, max_depth=50, max_features=log2, min_samples_leaf=0.5, min_samples_split=4, n_estimators=800; total time=   1.7s\n",
      "[CV] END bootstrap=True, criterion=gini, max_depth=50, max_features=log2, min_samples_leaf=0.5, min_samples_split=4, n_estimators=800; total time=   1.8s\n",
      "[CV] END bootstrap=True, criterion=gini, max_depth=50, max_features=log2, min_samples_leaf=0.5, min_samples_split=4, n_estimators=800; total time=   1.7s\n",
      "[CV] END bootstrap=True, criterion=gini, max_depth=10, max_features=log2, min_samples_leaf=0.1, min_samples_split=1, n_estimators=1700; total time=   0.5s\n",
      "[CV] END bootstrap=True, criterion=gini, max_depth=10, max_features=log2, min_samples_leaf=0.1, min_samples_split=1, n_estimators=1700; total time=   0.5s\n",
      "[CV] END bootstrap=True, criterion=gini, max_depth=10, max_features=log2, min_samples_leaf=0.1, min_samples_split=1, n_estimators=1700; total time=   0.5s\n",
      "[CV] END bootstrap=True, criterion=gini, max_depth=10, max_features=log2, min_samples_leaf=0.1, min_samples_split=1, n_estimators=1700; total time=   0.5s\n",
      "[CV] END bootstrap=True, criterion=gini, max_depth=10, max_features=log2, min_samples_leaf=0.1, min_samples_split=1, n_estimators=1700; total time=   0.5s\n",
      "[CV] END bootstrap=True, criterion=gini, max_depth=40, max_features=sqrt, min_samples_leaf=0.4, min_samples_split=4, n_estimators=1000; total time=   2.2s\n",
      "[CV] END bootstrap=True, criterion=gini, max_depth=40, max_features=sqrt, min_samples_leaf=0.4, min_samples_split=4, n_estimators=1000; total time=   2.2s\n",
      "[CV] END bootstrap=True, criterion=gini, max_depth=40, max_features=sqrt, min_samples_leaf=0.4, min_samples_split=4, n_estimators=1000; total time=   2.9s\n",
      "[CV] END bootstrap=True, criterion=gini, max_depth=40, max_features=sqrt, min_samples_leaf=0.4, min_samples_split=4, n_estimators=1000; total time=   2.5s\n",
      "[CV] END bootstrap=True, criterion=gini, max_depth=40, max_features=sqrt, min_samples_leaf=0.4, min_samples_split=4, n_estimators=1000; total time=   2.5s\n",
      "[CV] END bootstrap=True, criterion=gini, max_depth=35, max_features=log2, min_samples_leaf=0.5, min_samples_split=2, n_estimators=2000; total time=   8.7s\n",
      "[CV] END bootstrap=True, criterion=gini, max_depth=35, max_features=log2, min_samples_leaf=0.5, min_samples_split=2, n_estimators=2000; total time=  10.7s\n",
      "[CV] END bootstrap=True, criterion=gini, max_depth=35, max_features=log2, min_samples_leaf=0.5, min_samples_split=2, n_estimators=2000; total time=   4.6s\n",
      "[CV] END bootstrap=True, criterion=gini, max_depth=35, max_features=log2, min_samples_leaf=0.5, min_samples_split=2, n_estimators=2000; total time=   4.8s\n",
      "[CV] END bootstrap=True, criterion=gini, max_depth=35, max_features=log2, min_samples_leaf=0.5, min_samples_split=2, n_estimators=2000; total time=   4.8s\n",
      "[CV] END bootstrap=True, criterion=gini, max_depth=40, max_features=sqrt, min_samples_leaf=0.4, min_samples_split=5, n_estimators=1300; total time=   4.0s\n",
      "[CV] END bootstrap=True, criterion=gini, max_depth=40, max_features=sqrt, min_samples_leaf=0.4, min_samples_split=5, n_estimators=1300; total time=   4.7s\n",
      "[CV] END bootstrap=True, criterion=gini, max_depth=40, max_features=sqrt, min_samples_leaf=0.4, min_samples_split=5, n_estimators=1300; total time=   3.3s\n",
      "[CV] END bootstrap=True, criterion=gini, max_depth=40, max_features=sqrt, min_samples_leaf=0.4, min_samples_split=5, n_estimators=1300; total time=   3.3s\n",
      "[CV] END bootstrap=True, criterion=gini, max_depth=40, max_features=sqrt, min_samples_leaf=0.4, min_samples_split=5, n_estimators=1300; total time=   4.1s\n",
      "[CV] END bootstrap=True, criterion=gini, max_depth=35, max_features=sqrt, min_samples_leaf=0.4, min_samples_split=4, n_estimators=400; total time=   0.8s\n",
      "[CV] END bootstrap=True, criterion=gini, max_depth=35, max_features=sqrt, min_samples_leaf=0.4, min_samples_split=4, n_estimators=400; total time=   0.8s\n",
      "[CV] END bootstrap=True, criterion=gini, max_depth=35, max_features=sqrt, min_samples_leaf=0.4, min_samples_split=4, n_estimators=400; total time=   0.9s\n",
      "[CV] END bootstrap=True, criterion=gini, max_depth=35, max_features=sqrt, min_samples_leaf=0.4, min_samples_split=4, n_estimators=400; total time=   0.9s\n",
      "[CV] END bootstrap=True, criterion=gini, max_depth=35, max_features=sqrt, min_samples_leaf=0.4, min_samples_split=4, n_estimators=400; total time=   0.8s\n",
      "[CV] END bootstrap=True, criterion=gini, max_depth=40, max_features=sqrt, min_samples_leaf=0.5, min_samples_split=1, n_estimators=1700; total time=   0.5s\n",
      "[CV] END bootstrap=True, criterion=gini, max_depth=40, max_features=sqrt, min_samples_leaf=0.5, min_samples_split=1, n_estimators=1700; total time=   0.6s\n",
      "[CV] END bootstrap=True, criterion=gini, max_depth=40, max_features=sqrt, min_samples_leaf=0.5, min_samples_split=1, n_estimators=1700; total time=   0.5s\n",
      "[CV] END bootstrap=True, criterion=gini, max_depth=40, max_features=sqrt, min_samples_leaf=0.5, min_samples_split=1, n_estimators=1700; total time=   0.6s\n",
      "[CV] END bootstrap=True, criterion=gini, max_depth=40, max_features=sqrt, min_samples_leaf=0.5, min_samples_split=1, n_estimators=1700; total time=   0.6s\n",
      "[CV] END bootstrap=True, criterion=gini, max_depth=45, max_features=sqrt, min_samples_leaf=0.1, min_samples_split=2, n_estimators=1000; total time=   3.5s\n",
      "[CV] END bootstrap=True, criterion=gini, max_depth=45, max_features=sqrt, min_samples_leaf=0.1, min_samples_split=2, n_estimators=1000; total time=   3.5s\n",
      "[CV] END bootstrap=True, criterion=gini, max_depth=45, max_features=sqrt, min_samples_leaf=0.1, min_samples_split=2, n_estimators=1000; total time=   3.6s\n",
      "[CV] END bootstrap=True, criterion=gini, max_depth=45, max_features=sqrt, min_samples_leaf=0.1, min_samples_split=2, n_estimators=1000; total time=   3.5s\n",
      "[CV] END bootstrap=True, criterion=gini, max_depth=45, max_features=sqrt, min_samples_leaf=0.1, min_samples_split=2, n_estimators=1000; total time=   3.5s\n"
     ]
    },
    {
     "name": "stdout",
     "output_type": "stream",
     "text": [
      "[CV] END bootstrap=True, criterion=gini, max_depth=5, max_features=sqrt, min_samples_leaf=0.4, min_samples_split=4, n_estimators=1900; total time=   4.1s\n",
      "[CV] END bootstrap=True, criterion=gini, max_depth=5, max_features=sqrt, min_samples_leaf=0.4, min_samples_split=4, n_estimators=1900; total time=   4.1s\n",
      "[CV] END bootstrap=True, criterion=gini, max_depth=5, max_features=sqrt, min_samples_leaf=0.4, min_samples_split=4, n_estimators=1900; total time=   4.3s\n",
      "[CV] END bootstrap=True, criterion=gini, max_depth=5, max_features=sqrt, min_samples_leaf=0.4, min_samples_split=4, n_estimators=1900; total time=   4.1s\n",
      "[CV] END bootstrap=True, criterion=gini, max_depth=5, max_features=sqrt, min_samples_leaf=0.4, min_samples_split=4, n_estimators=1900; total time=   4.2s\n",
      "[CV] END bootstrap=True, criterion=gini, max_depth=50, max_features=log2, min_samples_leaf=0.3, min_samples_split=4, n_estimators=900; total time=   2.3s\n",
      "[CV] END bootstrap=True, criterion=gini, max_depth=50, max_features=log2, min_samples_leaf=0.3, min_samples_split=4, n_estimators=900; total time=   2.2s\n",
      "[CV] END bootstrap=True, criterion=gini, max_depth=50, max_features=log2, min_samples_leaf=0.3, min_samples_split=4, n_estimators=900; total time=   2.2s\n",
      "[CV] END bootstrap=True, criterion=gini, max_depth=50, max_features=log2, min_samples_leaf=0.3, min_samples_split=4, n_estimators=900; total time=   2.2s\n",
      "[CV] END bootstrap=True, criterion=gini, max_depth=50, max_features=log2, min_samples_leaf=0.3, min_samples_split=4, n_estimators=900; total time=   2.3s\n",
      "[CV] END bootstrap=True, criterion=gini, max_depth=25, max_features=sqrt, min_samples_leaf=0.4, min_samples_split=5, n_estimators=800; total time=   1.7s\n",
      "[CV] END bootstrap=True, criterion=gini, max_depth=25, max_features=sqrt, min_samples_leaf=0.4, min_samples_split=5, n_estimators=800; total time=   1.6s\n",
      "[CV] END bootstrap=True, criterion=gini, max_depth=25, max_features=sqrt, min_samples_leaf=0.4, min_samples_split=5, n_estimators=800; total time=   1.7s\n",
      "[CV] END bootstrap=True, criterion=gini, max_depth=25, max_features=sqrt, min_samples_leaf=0.4, min_samples_split=5, n_estimators=800; total time=   1.7s\n",
      "[CV] END bootstrap=True, criterion=gini, max_depth=25, max_features=sqrt, min_samples_leaf=0.4, min_samples_split=5, n_estimators=800; total time=   1.7s\n",
      "[CV] END bootstrap=True, criterion=gini, max_depth=25, max_features=sqrt, min_samples_leaf=0.4, min_samples_split=3, n_estimators=2000; total time=   4.4s\n",
      "[CV] END bootstrap=True, criterion=gini, max_depth=25, max_features=sqrt, min_samples_leaf=0.4, min_samples_split=3, n_estimators=2000; total time=   4.5s\n",
      "[CV] END bootstrap=True, criterion=gini, max_depth=25, max_features=sqrt, min_samples_leaf=0.4, min_samples_split=3, n_estimators=2000; total time=   5.0s\n",
      "[CV] END bootstrap=True, criterion=gini, max_depth=25, max_features=sqrt, min_samples_leaf=0.4, min_samples_split=3, n_estimators=2000; total time=   4.5s\n",
      "[CV] END bootstrap=True, criterion=gini, max_depth=25, max_features=sqrt, min_samples_leaf=0.4, min_samples_split=3, n_estimators=2000; total time=   5.5s\n",
      "[CV] END bootstrap=True, criterion=gini, max_depth=35, max_features=log2, min_samples_leaf=0.4, min_samples_split=2, n_estimators=1200; total time=   3.2s\n",
      "[CV] END bootstrap=True, criterion=gini, max_depth=35, max_features=log2, min_samples_leaf=0.4, min_samples_split=2, n_estimators=1200; total time=   3.5s\n",
      "[CV] END bootstrap=True, criterion=gini, max_depth=35, max_features=log2, min_samples_leaf=0.4, min_samples_split=2, n_estimators=1200; total time=   3.2s\n",
      "[CV] END bootstrap=True, criterion=gini, max_depth=35, max_features=log2, min_samples_leaf=0.4, min_samples_split=2, n_estimators=1200; total time=   3.0s\n",
      "[CV] END bootstrap=True, criterion=gini, max_depth=35, max_features=log2, min_samples_leaf=0.4, min_samples_split=2, n_estimators=1200; total time=   3.6s\n",
      "[CV] END bootstrap=True, criterion=gini, max_depth=45, max_features=sqrt, min_samples_leaf=0.1, min_samples_split=4, n_estimators=1200; total time=   5.5s\n",
      "[CV] END bootstrap=True, criterion=gini, max_depth=45, max_features=sqrt, min_samples_leaf=0.1, min_samples_split=4, n_estimators=1200; total time=   5.3s\n",
      "[CV] END bootstrap=True, criterion=gini, max_depth=45, max_features=sqrt, min_samples_leaf=0.1, min_samples_split=4, n_estimators=1200; total time=   4.3s\n",
      "[CV] END bootstrap=True, criterion=gini, max_depth=45, max_features=sqrt, min_samples_leaf=0.1, min_samples_split=4, n_estimators=1200; total time=   4.1s\n",
      "[CV] END bootstrap=True, criterion=gini, max_depth=45, max_features=sqrt, min_samples_leaf=0.1, min_samples_split=4, n_estimators=1200; total time=   4.1s\n",
      "[CV] END bootstrap=True, criterion=gini, max_depth=45, max_features=sqrt, min_samples_leaf=0.2, min_samples_split=5, n_estimators=500; total time=   1.3s\n",
      "[CV] END bootstrap=True, criterion=gini, max_depth=45, max_features=sqrt, min_samples_leaf=0.2, min_samples_split=5, n_estimators=500; total time=   1.3s\n",
      "[CV] END bootstrap=True, criterion=gini, max_depth=45, max_features=sqrt, min_samples_leaf=0.2, min_samples_split=5, n_estimators=500; total time=   1.3s\n",
      "[CV] END bootstrap=True, criterion=gini, max_depth=45, max_features=sqrt, min_samples_leaf=0.2, min_samples_split=5, n_estimators=500; total time=   1.3s\n",
      "[CV] END bootstrap=True, criterion=gini, max_depth=45, max_features=sqrt, min_samples_leaf=0.2, min_samples_split=5, n_estimators=500; total time=   1.3s\n",
      "[CV] END bootstrap=True, criterion=gini, max_depth=40, max_features=log2, min_samples_leaf=0.3, min_samples_split=1, n_estimators=900; total time=   0.2s\n",
      "[CV] END bootstrap=True, criterion=gini, max_depth=40, max_features=log2, min_samples_leaf=0.3, min_samples_split=1, n_estimators=900; total time=   0.2s\n",
      "[CV] END bootstrap=True, criterion=gini, max_depth=40, max_features=log2, min_samples_leaf=0.3, min_samples_split=1, n_estimators=900; total time=   0.2s\n",
      "[CV] END bootstrap=True, criterion=gini, max_depth=40, max_features=log2, min_samples_leaf=0.3, min_samples_split=1, n_estimators=900; total time=   0.2s\n",
      "[CV] END bootstrap=True, criterion=gini, max_depth=40, max_features=log2, min_samples_leaf=0.3, min_samples_split=1, n_estimators=900; total time=   0.2s\n",
      "[CV] END bootstrap=True, criterion=gini, max_depth=30, max_features=log2, min_samples_leaf=0.3, min_samples_split=4, n_estimators=1700; total time=   4.5s\n",
      "[CV] END bootstrap=True, criterion=gini, max_depth=30, max_features=log2, min_samples_leaf=0.3, min_samples_split=4, n_estimators=1700; total time=   5.5s\n",
      "[CV] END bootstrap=True, criterion=gini, max_depth=30, max_features=log2, min_samples_leaf=0.3, min_samples_split=4, n_estimators=1700; total time=   4.3s\n",
      "[CV] END bootstrap=True, criterion=gini, max_depth=30, max_features=log2, min_samples_leaf=0.3, min_samples_split=4, n_estimators=1700; total time=   5.2s\n",
      "[CV] END bootstrap=True, criterion=gini, max_depth=30, max_features=log2, min_samples_leaf=0.3, min_samples_split=4, n_estimators=1700; total time=   4.4s\n",
      "[CV] END bootstrap=True, criterion=gini, max_depth=15, max_features=log2, min_samples_leaf=0.1, min_samples_split=4, n_estimators=300; total time=   1.0s\n",
      "[CV] END bootstrap=True, criterion=gini, max_depth=15, max_features=log2, min_samples_leaf=0.1, min_samples_split=4, n_estimators=300; total time=   1.0s\n",
      "[CV] END bootstrap=True, criterion=gini, max_depth=15, max_features=log2, min_samples_leaf=0.1, min_samples_split=4, n_estimators=300; total time=   1.1s\n",
      "[CV] END bootstrap=True, criterion=gini, max_depth=15, max_features=log2, min_samples_leaf=0.1, min_samples_split=4, n_estimators=300; total time=   1.8s\n",
      "[CV] END bootstrap=True, criterion=gini, max_depth=15, max_features=log2, min_samples_leaf=0.1, min_samples_split=4, n_estimators=300; total time=   1.0s\n",
      "[CV] END bootstrap=True, criterion=gini, max_depth=5, max_features=log2, min_samples_leaf=0.1, min_samples_split=4, n_estimators=500; total time=   1.7s\n",
      "[CV] END bootstrap=True, criterion=gini, max_depth=5, max_features=log2, min_samples_leaf=0.1, min_samples_split=4, n_estimators=500; total time=   1.8s\n",
      "[CV] END bootstrap=True, criterion=gini, max_depth=5, max_features=log2, min_samples_leaf=0.1, min_samples_split=4, n_estimators=500; total time=   2.2s\n",
      "[CV] END bootstrap=True, criterion=gini, max_depth=5, max_features=log2, min_samples_leaf=0.1, min_samples_split=4, n_estimators=500; total time=   1.7s\n"
     ]
    },
    {
     "name": "stdout",
     "output_type": "stream",
     "text": [
      "[CV] END bootstrap=True, criterion=gini, max_depth=5, max_features=log2, min_samples_leaf=0.1, min_samples_split=4, n_estimators=500; total time=   1.6s\n",
      "[CV] END bootstrap=True, criterion=gini, max_depth=45, max_features=log2, min_samples_leaf=0.1, min_samples_split=1, n_estimators=700; total time=   0.2s\n",
      "[CV] END bootstrap=True, criterion=gini, max_depth=45, max_features=log2, min_samples_leaf=0.1, min_samples_split=1, n_estimators=700; total time=   0.2s\n",
      "[CV] END bootstrap=True, criterion=gini, max_depth=45, max_features=log2, min_samples_leaf=0.1, min_samples_split=1, n_estimators=700; total time=   0.2s\n",
      "[CV] END bootstrap=True, criterion=gini, max_depth=45, max_features=log2, min_samples_leaf=0.1, min_samples_split=1, n_estimators=700; total time=   0.2s\n",
      "[CV] END bootstrap=True, criterion=gini, max_depth=45, max_features=log2, min_samples_leaf=0.1, min_samples_split=1, n_estimators=700; total time=   0.2s\n",
      "[CV] END bootstrap=True, criterion=gini, max_depth=15, max_features=sqrt, min_samples_leaf=0.1, min_samples_split=4, n_estimators=900; total time=   5.9s\n",
      "[CV] END bootstrap=True, criterion=gini, max_depth=15, max_features=sqrt, min_samples_leaf=0.1, min_samples_split=4, n_estimators=900; total time=   4.7s\n",
      "[CV] END bootstrap=True, criterion=gini, max_depth=15, max_features=sqrt, min_samples_leaf=0.1, min_samples_split=4, n_estimators=900; total time=   4.7s\n",
      "[CV] END bootstrap=True, criterion=gini, max_depth=15, max_features=sqrt, min_samples_leaf=0.1, min_samples_split=4, n_estimators=900; total time=   4.1s\n",
      "[CV] END bootstrap=True, criterion=gini, max_depth=15, max_features=sqrt, min_samples_leaf=0.1, min_samples_split=4, n_estimators=900; total time=   3.6s\n",
      "[CV] END bootstrap=True, criterion=gini, max_depth=30, max_features=log2, min_samples_leaf=0.5, min_samples_split=4, n_estimators=400; total time=   0.8s\n",
      "[CV] END bootstrap=True, criterion=gini, max_depth=30, max_features=log2, min_samples_leaf=0.5, min_samples_split=4, n_estimators=400; total time=   0.8s\n",
      "[CV] END bootstrap=True, criterion=gini, max_depth=30, max_features=log2, min_samples_leaf=0.5, min_samples_split=4, n_estimators=400; total time=   0.9s\n",
      "[CV] END bootstrap=True, criterion=gini, max_depth=30, max_features=log2, min_samples_leaf=0.5, min_samples_split=4, n_estimators=400; total time=   0.8s\n",
      "[CV] END bootstrap=True, criterion=gini, max_depth=30, max_features=log2, min_samples_leaf=0.5, min_samples_split=4, n_estimators=400; total time=   0.9s\n",
      "[CV] END bootstrap=True, criterion=gini, max_depth=15, max_features=log2, min_samples_leaf=0.1, min_samples_split=2, n_estimators=800; total time=   3.1s\n",
      "[CV] END bootstrap=True, criterion=gini, max_depth=15, max_features=log2, min_samples_leaf=0.1, min_samples_split=2, n_estimators=800; total time=   3.1s\n",
      "[CV] END bootstrap=True, criterion=gini, max_depth=15, max_features=log2, min_samples_leaf=0.1, min_samples_split=2, n_estimators=800; total time=   3.0s\n",
      "[CV] END bootstrap=True, criterion=gini, max_depth=15, max_features=log2, min_samples_leaf=0.1, min_samples_split=2, n_estimators=800; total time=   3.3s\n",
      "[CV] END bootstrap=True, criterion=gini, max_depth=15, max_features=log2, min_samples_leaf=0.1, min_samples_split=2, n_estimators=800; total time=   3.5s\n"
     ]
    },
    {
     "name": "stderr",
     "output_type": "stream",
     "text": [
      "C:\\Users\\George\\anaconda3\\envs\\tf\\lib\\site-packages\\sklearn\\model_selection\\_validation.py:378: FitFailedWarning: \n",
      "45 fits failed out of a total of 500.\n",
      "The score on these train-test partitions for these parameters will be set to nan.\n",
      "If these failures are not expected, you can try to debug them by setting error_score='raise'.\n",
      "\n",
      "Below are more details about the failures:\n",
      "--------------------------------------------------------------------------------\n",
      "45 fits failed with the following error:\n",
      "Traceback (most recent call last):\n",
      "  File \"C:\\Users\\George\\anaconda3\\envs\\tf\\lib\\site-packages\\sklearn\\model_selection\\_validation.py\", line 686, in _fit_and_score\n",
      "    estimator.fit(X_train, y_train, **fit_params)\n",
      "  File \"C:\\Users\\George\\anaconda3\\envs\\tf\\lib\\site-packages\\sklearn\\ensemble\\_forest.py\", line 476, in fit\n",
      "    trees = Parallel(\n",
      "  File \"C:\\Users\\George\\anaconda3\\envs\\tf\\lib\\site-packages\\joblib\\parallel.py\", line 1043, in __call__\n",
      "    if self.dispatch_one_batch(iterator):\n",
      "  File \"C:\\Users\\George\\anaconda3\\envs\\tf\\lib\\site-packages\\joblib\\parallel.py\", line 861, in dispatch_one_batch\n",
      "    self._dispatch(tasks)\n",
      "  File \"C:\\Users\\George\\anaconda3\\envs\\tf\\lib\\site-packages\\joblib\\parallel.py\", line 779, in _dispatch\n",
      "    job = self._backend.apply_async(batch, callback=cb)\n",
      "  File \"C:\\Users\\George\\anaconda3\\envs\\tf\\lib\\site-packages\\joblib\\_parallel_backends.py\", line 208, in apply_async\n",
      "    result = ImmediateResult(func)\n",
      "  File \"C:\\Users\\George\\anaconda3\\envs\\tf\\lib\\site-packages\\joblib\\_parallel_backends.py\", line 572, in __init__\n",
      "    self.results = batch()\n",
      "  File \"C:\\Users\\George\\anaconda3\\envs\\tf\\lib\\site-packages\\joblib\\parallel.py\", line 262, in __call__\n",
      "    return [func(*args, **kwargs)\n",
      "  File \"C:\\Users\\George\\anaconda3\\envs\\tf\\lib\\site-packages\\joblib\\parallel.py\", line 262, in <listcomp>\n",
      "    return [func(*args, **kwargs)\n",
      "  File \"C:\\Users\\George\\anaconda3\\envs\\tf\\lib\\site-packages\\sklearn\\utils\\fixes.py\", line 117, in __call__\n",
      "    return self.function(*args, **kwargs)\n",
      "  File \"C:\\Users\\George\\anaconda3\\envs\\tf\\lib\\site-packages\\sklearn\\ensemble\\_forest.py\", line 189, in _parallel_build_trees\n",
      "    tree.fit(X, y, sample_weight=curr_sample_weight, check_input=False)\n",
      "  File \"C:\\Users\\George\\anaconda3\\envs\\tf\\lib\\site-packages\\sklearn\\tree\\_classes.py\", line 969, in fit\n",
      "    super().fit(\n",
      "  File \"C:\\Users\\George\\anaconda3\\envs\\tf\\lib\\site-packages\\sklearn\\tree\\_classes.py\", line 265, in fit\n",
      "    check_scalar(\n",
      "  File \"C:\\Users\\George\\anaconda3\\envs\\tf\\lib\\site-packages\\sklearn\\utils\\validation.py\", line 1480, in check_scalar\n",
      "    raise ValueError(\n",
      "ValueError: min_samples_split == 1, must be >= 2.\n",
      "\n",
      "  warnings.warn(some_fits_failed_message, FitFailedWarning)\n",
      "C:\\Users\\George\\anaconda3\\envs\\tf\\lib\\site-packages\\sklearn\\model_selection\\_search.py:953: UserWarning: One or more of the test scores are non-finite: [0.67385768 0.50480872 0.50480872 0.70399319 0.67588805 0.670864\n",
      " 0.50480872 0.50480872 0.72440728 0.50480872 0.7031386  0.67898851\n",
      " 0.72098711 0.50480872 0.50480872        nan 0.72633122 0.50480872\n",
      " 0.70420704 0.7237662  0.50480872 0.50480872 0.70271108 0.67813124\n",
      " 0.72376603 0.50480872 0.72750626 0.67845181 0.701001   0.50480872\n",
      " 0.70260419 0.67567454        nan 0.70442037 0.50480872 0.67717124\n",
      " 0.67984178 0.72504837 0.72376591 0.50480872 0.50480872 0.50480872\n",
      " 0.7051688  0.67118342 0.72515515 0.67823813 0.50480872 0.68347592\n",
      "        nan        nan 0.72718552 0.72430073 0.67620908 0.50480872\n",
      " 0.72793338 0.70474145 0.6754607  0.67449882 0.6728954  0.70452795\n",
      " 0.70623712 0.72280466 0.50480872 0.72440688 0.72526193 0.7263307\n",
      "        nan 0.50480872 0.50480872 0.70474123 0.50480872 0.70239063\n",
      " 0.7052757  0.67759739 0.70495513 0.50480872 0.70388698 0.50480872\n",
      "        nan 0.50480872 0.50480872 0.50480872 0.50480872        nan\n",
      " 0.72568928 0.50480872 0.67674361 0.50480872 0.50480872 0.50480872\n",
      " 0.72376546 0.70388721        nan 0.67759722 0.72558318 0.7261176\n",
      "        nan 0.72440717 0.50480872 0.72729207]\n",
      "  warnings.warn(\n"
     ]
    },
    {
     "data": {
      "text/html": [
       "<style>#sk-container-id-6 {color: black;background-color: white;}#sk-container-id-6 pre{padding: 0;}#sk-container-id-6 div.sk-toggleable {background-color: white;}#sk-container-id-6 label.sk-toggleable__label {cursor: pointer;display: block;width: 100%;margin-bottom: 0;padding: 0.3em;box-sizing: border-box;text-align: center;}#sk-container-id-6 label.sk-toggleable__label-arrow:before {content: \"▸\";float: left;margin-right: 0.25em;color: #696969;}#sk-container-id-6 label.sk-toggleable__label-arrow:hover:before {color: black;}#sk-container-id-6 div.sk-estimator:hover label.sk-toggleable__label-arrow:before {color: black;}#sk-container-id-6 div.sk-toggleable__content {max-height: 0;max-width: 0;overflow: hidden;text-align: left;background-color: #f0f8ff;}#sk-container-id-6 div.sk-toggleable__content pre {margin: 0.2em;color: black;border-radius: 0.25em;background-color: #f0f8ff;}#sk-container-id-6 input.sk-toggleable__control:checked~div.sk-toggleable__content {max-height: 200px;max-width: 100%;overflow: auto;}#sk-container-id-6 input.sk-toggleable__control:checked~label.sk-toggleable__label-arrow:before {content: \"▾\";}#sk-container-id-6 div.sk-estimator input.sk-toggleable__control:checked~label.sk-toggleable__label {background-color: #d4ebff;}#sk-container-id-6 div.sk-label input.sk-toggleable__control:checked~label.sk-toggleable__label {background-color: #d4ebff;}#sk-container-id-6 input.sk-hidden--visually {border: 0;clip: rect(1px 1px 1px 1px);clip: rect(1px, 1px, 1px, 1px);height: 1px;margin: -1px;overflow: hidden;padding: 0;position: absolute;width: 1px;}#sk-container-id-6 div.sk-estimator {font-family: monospace;background-color: #f0f8ff;border: 1px dotted black;border-radius: 0.25em;box-sizing: border-box;margin-bottom: 0.5em;}#sk-container-id-6 div.sk-estimator:hover {background-color: #d4ebff;}#sk-container-id-6 div.sk-parallel-item::after {content: \"\";width: 100%;border-bottom: 1px solid gray;flex-grow: 1;}#sk-container-id-6 div.sk-label:hover label.sk-toggleable__label {background-color: #d4ebff;}#sk-container-id-6 div.sk-serial::before {content: \"\";position: absolute;border-left: 1px solid gray;box-sizing: border-box;top: 0;bottom: 0;left: 50%;z-index: 0;}#sk-container-id-6 div.sk-serial {display: flex;flex-direction: column;align-items: center;background-color: white;padding-right: 0.2em;padding-left: 0.2em;position: relative;}#sk-container-id-6 div.sk-item {position: relative;z-index: 1;}#sk-container-id-6 div.sk-parallel {display: flex;align-items: stretch;justify-content: center;background-color: white;position: relative;}#sk-container-id-6 div.sk-item::before, #sk-container-id-6 div.sk-parallel-item::before {content: \"\";position: absolute;border-left: 1px solid gray;box-sizing: border-box;top: 0;bottom: 0;left: 50%;z-index: -1;}#sk-container-id-6 div.sk-parallel-item {display: flex;flex-direction: column;z-index: 1;position: relative;background-color: white;}#sk-container-id-6 div.sk-parallel-item:first-child::after {align-self: flex-end;width: 50%;}#sk-container-id-6 div.sk-parallel-item:last-child::after {align-self: flex-start;width: 50%;}#sk-container-id-6 div.sk-parallel-item:only-child::after {width: 0;}#sk-container-id-6 div.sk-dashed-wrapped {border: 1px dashed gray;margin: 0 0.4em 0.5em 0.4em;box-sizing: border-box;padding-bottom: 0.4em;background-color: white;}#sk-container-id-6 div.sk-label label {font-family: monospace;font-weight: bold;display: inline-block;line-height: 1.2em;}#sk-container-id-6 div.sk-label-container {text-align: center;}#sk-container-id-6 div.sk-container {/* jupyter's `normalize.less` sets `[hidden] { display: none; }` but bootstrap.min.css set `[hidden] { display: none !important; }` so we also need the `!important` here to be able to override the default hidden behavior on the sphinx rendered scikit-learn.org. See: https://github.com/scikit-learn/scikit-learn/issues/21755 */display: inline-block !important;position: relative;}#sk-container-id-6 div.sk-text-repr-fallback {display: none;}</style><div id=\"sk-container-id-6\" class=\"sk-top-container\"><div class=\"sk-text-repr-fallback\"><pre>RandomizedSearchCV(cv=5, estimator=RandomForestClassifier(), n_iter=100,\n",
       "                   param_distributions={&#x27;bootstrap&#x27;: [True],\n",
       "                                        &#x27;criterion&#x27;: [&#x27;gini&#x27;],\n",
       "                                        &#x27;max_depth&#x27;: [5, 10, 15, 20, 25, 30, 35,\n",
       "                                                      40, 45, 50, None],\n",
       "                                        &#x27;max_features&#x27;: [&#x27;log2&#x27;, &#x27;sqrt&#x27;],\n",
       "                                        &#x27;min_samples_leaf&#x27;: [0.1, 0.2, 0.3, 0.4,\n",
       "                                                             0.5],\n",
       "                                        &#x27;min_samples_split&#x27;: [1, 2, 3, 4, 5],\n",
       "                                        &#x27;n_estimators&#x27;: [100, 200, 300, 400,\n",
       "                                                         500, 600, 700, 800,\n",
       "                                                         900, 1000, 1100, 1200,\n",
       "                                                         1300, 1400, 1500, 1600,\n",
       "                                                         1700, 1800, 1900,\n",
       "                                                         2000]},\n",
       "                   random_state=42, scoring=&#x27;accuracy&#x27;, verbose=2)</pre><b>In a Jupyter environment, please rerun this cell to show the HTML representation or trust the notebook. <br />On GitHub, the HTML representation is unable to render, please try loading this page with nbviewer.org.</b></div><div class=\"sk-container\" hidden><div class=\"sk-item sk-dashed-wrapped\"><div class=\"sk-label-container\"><div class=\"sk-label sk-toggleable\"><input class=\"sk-toggleable__control sk-hidden--visually\" id=\"sk-estimator-id-12\" type=\"checkbox\" ><label for=\"sk-estimator-id-12\" class=\"sk-toggleable__label sk-toggleable__label-arrow\">RandomizedSearchCV</label><div class=\"sk-toggleable__content\"><pre>RandomizedSearchCV(cv=5, estimator=RandomForestClassifier(), n_iter=100,\n",
       "                   param_distributions={&#x27;bootstrap&#x27;: [True],\n",
       "                                        &#x27;criterion&#x27;: [&#x27;gini&#x27;],\n",
       "                                        &#x27;max_depth&#x27;: [5, 10, 15, 20, 25, 30, 35,\n",
       "                                                      40, 45, 50, None],\n",
       "                                        &#x27;max_features&#x27;: [&#x27;log2&#x27;, &#x27;sqrt&#x27;],\n",
       "                                        &#x27;min_samples_leaf&#x27;: [0.1, 0.2, 0.3, 0.4,\n",
       "                                                             0.5],\n",
       "                                        &#x27;min_samples_split&#x27;: [1, 2, 3, 4, 5],\n",
       "                                        &#x27;n_estimators&#x27;: [100, 200, 300, 400,\n",
       "                                                         500, 600, 700, 800,\n",
       "                                                         900, 1000, 1100, 1200,\n",
       "                                                         1300, 1400, 1500, 1600,\n",
       "                                                         1700, 1800, 1900,\n",
       "                                                         2000]},\n",
       "                   random_state=42, scoring=&#x27;accuracy&#x27;, verbose=2)</pre></div></div></div><div class=\"sk-parallel\"><div class=\"sk-parallel-item\"><div class=\"sk-item\"><div class=\"sk-label-container\"><div class=\"sk-label sk-toggleable\"><input class=\"sk-toggleable__control sk-hidden--visually\" id=\"sk-estimator-id-13\" type=\"checkbox\" ><label for=\"sk-estimator-id-13\" class=\"sk-toggleable__label sk-toggleable__label-arrow\">estimator: RandomForestClassifier</label><div class=\"sk-toggleable__content\"><pre>RandomForestClassifier()</pre></div></div></div><div class=\"sk-serial\"><div class=\"sk-item\"><div class=\"sk-estimator sk-toggleable\"><input class=\"sk-toggleable__control sk-hidden--visually\" id=\"sk-estimator-id-14\" type=\"checkbox\" ><label for=\"sk-estimator-id-14\" class=\"sk-toggleable__label sk-toggleable__label-arrow\">RandomForestClassifier</label><div class=\"sk-toggleable__content\"><pre>RandomForestClassifier()</pre></div></div></div></div></div></div></div></div></div></div>"
      ],
      "text/plain": [
       "RandomizedSearchCV(cv=5, estimator=RandomForestClassifier(), n_iter=100,\n",
       "                   param_distributions={'bootstrap': [True],\n",
       "                                        'criterion': ['gini'],\n",
       "                                        'max_depth': [5, 10, 15, 20, 25, 30, 35,\n",
       "                                                      40, 45, 50, None],\n",
       "                                        'max_features': ['log2', 'sqrt'],\n",
       "                                        'min_samples_leaf': [0.1, 0.2, 0.3, 0.4,\n",
       "                                                             0.5],\n",
       "                                        'min_samples_split': [1, 2, 3, 4, 5],\n",
       "                                        'n_estimators': [100, 200, 300, 400,\n",
       "                                                         500, 600, 700, 800,\n",
       "                                                         900, 1000, 1100, 1200,\n",
       "                                                         1300, 1400, 1500, 1600,\n",
       "                                                         1700, 1800, 1900,\n",
       "                                                         2000]},\n",
       "                   random_state=42, scoring='accuracy', verbose=2)"
      ]
     },
     "execution_count": 176,
     "metadata": {},
     "output_type": "execute_result"
    }
   ],
   "source": [
    "rf_random = RandomizedSearchCV(estimator = base, param_distributions = random_grid, \n",
    "                               n_iter = 100 ,cv = 5 ,verbose=2, random_state=42, scoring='accuracy')\n",
    "rf_random.fit(X_res, y_res)"
   ]
  },
  {
   "cell_type": "code",
   "execution_count": 181,
   "id": "2860dc44",
   "metadata": {},
   "outputs": [
    {
     "data": {
      "text/plain": [
       "{'n_estimators': 2000,\n",
       " 'min_samples_split': 5,\n",
       " 'min_samples_leaf': 0.1,\n",
       " 'max_features': 'log2',\n",
       " 'max_depth': 40,\n",
       " 'criterion': 'gini',\n",
       " 'bootstrap': True}"
      ]
     },
     "execution_count": 181,
     "metadata": {},
     "output_type": "execute_result"
    }
   ],
   "source": [
    "rf_random.best_params_\n"
   ]
  },
  {
   "cell_type": "code",
   "execution_count": 178,
   "id": "13478d66",
   "metadata": {},
   "outputs": [],
   "source": [
    "#random model\n",
    "random = RandomForestClassifier(n_estimators=2000, min_samples_split=5, min_samples_leaf=0.1,\n",
    "                                max_features='log2', max_depth=40, bootstrap=True, criterion='gini')\n",
    "random.fit(X_res,y_res)\n",
    "rand_pred = random.predict(X_test)"
   ]
  },
  {
   "cell_type": "code",
   "execution_count": 179,
   "id": "d90b028f",
   "metadata": {},
   "outputs": [
    {
     "data": {
      "text/plain": [
       "<sklearn.metrics._plot.confusion_matrix.ConfusionMatrixDisplay at 0xb41327c9d0>"
      ]
     },
     "execution_count": 179,
     "metadata": {},
     "output_type": "execute_result"
    },
    {
     "data": {
      "image/png": "[encoded data removed]",
      "text/plain": [
       "<Figure size 640x480 with 2 Axes>"
      ]
     },
     "metadata": {},
     "output_type": "display_data"
    }
   ],
   "source": [
    "cm = confusion_matrix(y_test,rand_pred)\n",
    "disp = ConfusionMatrixDisplay(cm)\n",
    "disp.plot()"
   ]
  },
  {
   "cell_type": "code",
   "execution_count": 180,
   "id": "6fed8e51",
   "metadata": {},
   "outputs": [
    {
     "name": "stdout",
     "output_type": "stream",
     "text": [
      "              precision    recall  f1-score   support\n",
      "\n",
      "           0       0.94      0.67      0.78       519\n",
      "           1       0.48      0.87      0.62       182\n",
      "\n",
      "    accuracy                           0.72       701\n",
      "   macro avg       0.71      0.77      0.70       701\n",
      "weighted avg       0.82      0.72      0.74       701\n",
      "\n"
     ]
    }
   ],
   "source": [
    "print(classification_report(y_test,rand_pred))"
   ]
  },
  {
   "cell_type": "markdown",
   "id": "1c199096",
   "metadata": {},
   "source": [
    "We couldn't improve the model further with RandomisedSearhCV."
   ]
  },
  {
   "cell_type": "markdown",
   "id": "38ef1140",
   "metadata": {},
   "source": [
    "# Logistic Regression"
   ]
  },
  {
   "cell_type": "code",
   "execution_count": 182,
   "id": "452daf7a",
   "metadata": {},
   "outputs": [],
   "source": [
    "df = pd.read_csv(r\"Telco.csv\")"
   ]
  },
  {
   "cell_type": "code",
   "execution_count": 183,
   "id": "68a55023",
   "metadata": {},
   "outputs": [],
   "source": [
    "X = df.drop('Churn',axis=1)\n",
    "y = df['Churn']"
   ]
  },
  {
   "cell_type": "code",
   "execution_count": 186,
   "id": "7ace91ae",
   "metadata": {},
   "outputs": [],
   "source": [
    "from sklearn.linear_model import LogisticRegression\n",
    "from sklearn.preprocessing import MinMaxScaler"
   ]
  },
  {
   "cell_type": "code",
   "execution_count": 187,
   "id": "a3d0afd1",
   "metadata": {},
   "outputs": [],
   "source": [
    "X_train, X_test, y_train, y_test = train_test_split(X, y, test_size=0.1,random_state=101)"
   ]
  },
  {
   "cell_type": "code",
   "execution_count": 189,
   "id": "a53ed600",
   "metadata": {},
   "outputs": [],
   "source": [
    "scaler = MinMaxScaler()\n",
    "\n",
    "scaled_X_train = scaler.fit_transform(X_train)\n",
    "scaled_X_test = scaler.transform(X_test)"
   ]
  },
  {
   "cell_type": "code",
   "execution_count": 191,
   "id": "76723523",
   "metadata": {},
   "outputs": [],
   "source": [
    "base = LogisticRegression(max_iter=4000)\n",
    "\n",
    "base.fit(scaled_X_train,y_train)\n",
    "base_pred = base.predict(scaled_X_test)"
   ]
  },
  {
   "cell_type": "code",
   "execution_count": 192,
   "id": "24ed1b91",
   "metadata": {},
   "outputs": [
    {
     "data": {
      "text/plain": [
       "<sklearn.metrics._plot.confusion_matrix.ConfusionMatrixDisplay at 0xb4132e3f70>"
      ]
     },
     "execution_count": 192,
     "metadata": {},
     "output_type": "execute_result"
    },
    {
     "data": {
      "image/png": "[encoded data removed]",
      "text/plain": [
       "<Figure size 640x480 with 2 Axes>"
      ]
     },
     "metadata": {},
     "output_type": "display_data"
    }
   ],
   "source": [
    "cm = confusion_matrix(y_test,base_pred)\n",
    "disp = ConfusionMatrixDisplay(cm)\n",
    "disp.plot()"
   ]
  },
  {
   "cell_type": "code",
   "execution_count": 193,
   "id": "4b784b46",
   "metadata": {},
   "outputs": [
    {
     "name": "stdout",
     "output_type": "stream",
     "text": [
      "              precision    recall  f1-score   support\n",
      "\n",
      "           0       0.86      0.93      0.89       519\n",
      "           1       0.74      0.57      0.64       182\n",
      "\n",
      "    accuracy                           0.84       701\n",
      "   macro avg       0.80      0.75      0.77       701\n",
      "weighted avg       0.83      0.84      0.83       701\n",
      "\n"
     ]
    }
   ],
   "source": [
    "print(classification_report(y_test,base_pred))"
   ]
  },
  {
   "cell_type": "code",
   "execution_count": 195,
   "id": "f8a81558",
   "metadata": {},
   "outputs": [
    {
     "name": "stdout",
     "output_type": "stream",
     "text": [
      " Clf result : 0.782, +- 0.015 N_features : 5\n",
      " Clf result : 0.786, +- 0.014 N_features : 6\n",
      " Clf result : 0.790, +- 0.022 N_features : 7\n",
      " Clf result : 0.787, +- 0.022 N_features : 8\n",
      " Clf result : 0.789, +- 0.020 N_features : 9\n",
      " Clf result : 0.791, +- 0.022 N_features : 10\n",
      " Clf result : 0.793, +- 0.020 N_features : 11\n",
      " Clf result : 0.791, +- 0.025 N_features : 12\n",
      " Clf result : 0.793, +- 0.023 N_features : 13\n",
      " Clf result : 0.790, +- 0.022 N_features : 14\n",
      " Clf result : 0.791, +- 0.024 N_features : 15\n",
      " Clf result : 0.791, +- 0.024 N_features : 16\n",
      " Clf result : 0.792, +- 0.023 N_features : 17\n",
      " Clf result : 0.793, +- 0.023 N_features : 18\n",
      " Clf result : 0.793, +- 0.023 N_features : 19\n",
      " Clf result : 0.792, +- 0.023 N_features : 20\n",
      " Clf result : 0.792, +- 0.023 N_features : 21\n",
      " Clf result : 0.792, +- 0.023 N_features : 22\n",
      " Clf result : 0.792, +- 0.023 N_features : 23\n",
      " Clf result : 0.792, +- 0.023 N_features : 24\n",
      " Clf result : 0.792, +- 0.023 N_features : 25\n",
      " Clf result : 0.792, +- 0.023 N_features : 26\n",
      " Clf result : 0.792, +- 0.023 N_features : 27\n",
      " Clf result : 0.792, +- 0.023 N_features : 28\n",
      " Clf result : 0.793, +- 0.023 N_features : 29\n",
      " Clf result : 0.793, +- 0.023 N_features : 30\n",
      " Clf result : 0.793, +- 0.023 N_features : 31\n",
      " Clf result : 0.793, +- 0.023 N_features : 32\n",
      " Clf result : 0.793, +- 0.023 N_features : 33\n",
      " Clf result : 0.793, +- 0.023 N_features : 34\n",
      " Clf result : 0.793, +- 0.023 N_features : 35\n",
      " Clf result : 0.796, +- 0.022 N_features : 36\n",
      " Clf result : 0.796, +- 0.022 N_features : 37\n",
      " Clf result : 0.796, +- 0.022 N_features : 38\n",
      " Clf result : 0.795, +- 0.022 N_features : 39\n",
      " Clf result : 0.795, +- 0.023 N_features : 40\n",
      " Clf result : 0.794, +- 0.024 N_features : 41\n",
      " Clf result : 0.794, +- 0.023 N_features : 42\n",
      " Clf result : 0.794, +- 0.024 N_features : 43\n"
     ]
    },
    {
     "data": {
      "image/png": "[encoded data removed]",
      "text/plain": [
       "<Figure size 640x480 with 1 Axes>"
      ]
     },
     "metadata": {},
     "output_type": "display_data"
    }
   ],
   "source": [
    "acc_results = []\n",
    "n_features = []\n",
    "\n",
    "for i in range(5, 44):\n",
    "    rfe = RFE(estimator = base, n_features_to_select = i, step=1)\n",
    "    rfe.fit(X,y)\n",
    "    X_temp = rfe.transform(X)\n",
    "\n",
    "    np.random.seed(101)\n",
    "\n",
    "    X_train, X_test, y_train, y_test = train_test_split(X_temp,y,test_size = 0.33)\n",
    "\n",
    "    X_train = scaler.fit_transform(X_train)\n",
    "    X_test = scaler.transform(X_test)\n",
    "\n",
    "    scores = cross_val_score(base, X_train, y_train ,scoring= 'accuracy', cv=10)\n",
    "    print(\" Clf result :\", \"%0.3f, +- %0.3f\" % (scores.mean(), scores.std()), 'N_features :', i)\n",
    "    acc_results.append(scores.mean())\n",
    "    n_features.append(i)\n",
    "\n",
    "plt.plot(n_features, acc_results)\n",
    "plt.ylabel('Accuracy')\n",
    "plt.xlabel('N features')\n",
    "plt.show()"
   ]
  },
  {
   "cell_type": "code",
   "execution_count": 196,
   "id": "5e67698b",
   "metadata": {},
   "outputs": [
    {
     "data": {
      "text/plain": [
       "['SeniorCitizen',\n",
       " 'Dependents',\n",
       " 'tenure',\n",
       " 'PhoneService',\n",
       " 'PaperlessBilling',\n",
       " 'MultipleLines_No',\n",
       " 'MultipleLines_Yes',\n",
       " 'InternetService_DSL',\n",
       " 'InternetService_Fiber optic',\n",
       " 'InternetService_No',\n",
       " 'OnlineSecurity_No',\n",
       " 'OnlineSecurity_No internet service',\n",
       " 'OnlineSecurity_Yes',\n",
       " 'OnlineBackup_No',\n",
       " 'OnlineBackup_No internet service',\n",
       " 'OnlineBackup_Yes',\n",
       " 'DeviceProtection_No internet service',\n",
       " 'TechSupport_No',\n",
       " 'TechSupport_No internet service',\n",
       " 'TechSupport_Yes',\n",
       " 'StreamingTV_No',\n",
       " 'StreamingTV_No internet service',\n",
       " 'StreamingTV_Yes',\n",
       " 'StreamingMovies_No',\n",
       " 'StreamingMovies_No internet service',\n",
       " 'StreamingMovies_Yes',\n",
       " 'Contract_Month-to-month',\n",
       " 'Contract_Two year',\n",
       " 'PaymentMethod_Bank transfer (automatic)',\n",
       " 'PaymentMethod_Credit card (automatic)',\n",
       " 'PaymentMethod_Electronic check',\n",
       " 'PaymentMethod_Mailed check',\n",
       " 'Tenure Cohort_0-12 Months',\n",
       " 'Tenure Cohort_12-24 Months',\n",
       " 'Tenure Cohort_24-48 Months',\n",
       " 'Tenure Cohort_Over 48 Months']"
      ]
     },
     "execution_count": 196,
     "metadata": {},
     "output_type": "execute_result"
    }
   ],
   "source": [
    "#selection of features that provide the best accuracy \n",
    "rfe = RFE(estimator =base, n_features_to_select = 36, step=1)\n",
    "rfe.fit(X, y)\n",
    "\n",
    "#assigning of feature to a list\n",
    "featured_columns = pd.DataFrame(rfe.support_,\n",
    "                            index = X.columns,\n",
    "                            columns=['is_in'])\n",
    "\n",
    "featured_columns = featured_columns[featured_columns.is_in == True].index.tolist()\n",
    "featured_columns"
   ]
  },
  {
   "cell_type": "code",
   "execution_count": 198,
   "id": "ad430663",
   "metadata": {},
   "outputs": [],
   "source": [
    "Χ_rfe = X[featured_columns]"
   ]
  },
  {
   "cell_type": "code",
   "execution_count": 199,
   "id": "7e70b813",
   "metadata": {},
   "outputs": [],
   "source": [
    "X_train, X_test, y_train, y_test = train_test_split(X_rfe, y, test_size=0.1,random_state=101)"
   ]
  },
  {
   "cell_type": "code",
   "execution_count": 200,
   "id": "b94b7ea6",
   "metadata": {},
   "outputs": [],
   "source": [
    "scaled_X_train = scaler.fit_transform(X_train)\n",
    "scaled_X_test = scaler.transform(X_test)"
   ]
  },
  {
   "cell_type": "code",
   "execution_count": 201,
   "id": "6d9a47bb",
   "metadata": {},
   "outputs": [],
   "source": [
    "base.fit(scaled_X_train,y_train)\n",
    "rfe_pred = base.predict(scaled_X_test)"
   ]
  },
  {
   "cell_type": "code",
   "execution_count": 202,
   "id": "7dcfffab",
   "metadata": {},
   "outputs": [
    {
     "data": {
      "text/plain": [
       "<sklearn.metrics._plot.confusion_matrix.ConfusionMatrixDisplay at 0xb4133622e0>"
      ]
     },
     "execution_count": 202,
     "metadata": {},
     "output_type": "execute_result"
    },
    {
     "data": {
      "image/png": "[encoded data removed]",
      "text/plain": [
       "<Figure size 640x480 with 2 Axes>"
      ]
     },
     "metadata": {},
     "output_type": "display_data"
    }
   ],
   "source": [
    "cm = confusion_matrix(y_test,base_pred)\n",
    "disp = ConfusionMatrixDisplay(cm)\n",
    "disp.plot()"
   ]
  },
  {
   "cell_type": "code",
   "execution_count": 203,
   "id": "914a7a71",
   "metadata": {},
   "outputs": [
    {
     "name": "stdout",
     "output_type": "stream",
     "text": [
      "              precision    recall  f1-score   support\n",
      "\n",
      "           0       0.86      0.93      0.90       519\n",
      "           1       0.75      0.57      0.65       182\n",
      "\n",
      "    accuracy                           0.84       701\n",
      "   macro avg       0.80      0.75      0.77       701\n",
      "weighted avg       0.83      0.84      0.83       701\n",
      "\n"
     ]
    }
   ],
   "source": [
    "print(classification_report(y_test,rfe_pred))"
   ]
  },
  {
   "cell_type": "code",
   "execution_count": 204,
   "id": "b86151e1",
   "metadata": {},
   "outputs": [],
   "source": [
    "X_res, y_res = ad.fit_resample(X_train, y_train)"
   ]
  },
  {
   "cell_type": "code",
   "execution_count": 205,
   "id": "fb06a031",
   "metadata": {
    "scrolled": true
   },
   "outputs": [
    {
     "name": "stderr",
     "output_type": "stream",
     "text": [
      "C:\\Users\\George\\anaconda3\\envs\\tf\\lib\\site-packages\\seaborn\\_decorators.py:36: FutureWarning: Pass the following variable as a keyword arg: x. From version 0.12, the only valid positional argument will be `data`, and passing other arguments without an explicit keyword will result in an error or misinterpretation.\n",
      "  warnings.warn(\n"
     ]
    },
    {
     "data": {
      "text/plain": [
       "<AxesSubplot:xlabel='Churn', ylabel='count'>"
      ]
     },
     "execution_count": 205,
     "metadata": {},
     "output_type": "execute_result"
    },
    {
     "data": {
      "image/png": "[encoded data removed]",
      "text/plain": [
       "<Figure size 640x480 with 1 Axes>"
      ]
     },
     "metadata": {},
     "output_type": "display_data"
    }
   ],
   "source": [
    "sns.countplot(y_res)"
   ]
  },
  {
   "cell_type": "code",
   "execution_count": 209,
   "id": "3b83216a",
   "metadata": {},
   "outputs": [],
   "source": [
    "scaled_X_res = scaler.fit_transform(X_res)"
   ]
  },
  {
   "cell_type": "code",
   "execution_count": 210,
   "id": "c8d8ab18",
   "metadata": {},
   "outputs": [],
   "source": [
    "base.fit(scaled_X_res,y_res)\n",
    "ad_pred = base.predict(scaled_X_test)"
   ]
  },
  {
   "cell_type": "code",
   "execution_count": 211,
   "id": "8467a56b",
   "metadata": {},
   "outputs": [
    {
     "data": {
      "text/plain": [
       "<sklearn.metrics._plot.confusion_matrix.ConfusionMatrixDisplay at 0xb4133111f0>"
      ]
     },
     "execution_count": 211,
     "metadata": {},
     "output_type": "execute_result"
    },
    {
     "data": {
      "image/png": "[encoded data removed]",
      "text/plain": [
       "<Figure size 640x480 with 2 Axes>"
      ]
     },
     "metadata": {},
     "output_type": "display_data"
    }
   ],
   "source": [
    "cm = confusion_matrix(y_test,ad_pred)\n",
    "disp = ConfusionMatrixDisplay(cm)\n",
    "disp.plot()"
   ]
  },
  {
   "cell_type": "code",
   "execution_count": 212,
   "id": "be4d4ca2",
   "metadata": {},
   "outputs": [
    {
     "name": "stdout",
     "output_type": "stream",
     "text": [
      "              precision    recall  f1-score   support\n",
      "\n",
      "           0       0.88      0.90      0.89       519\n",
      "           1       0.69      0.65      0.67       182\n",
      "\n",
      "    accuracy                           0.83       701\n",
      "   macro avg       0.78      0.77      0.78       701\n",
      "weighted avg       0.83      0.83      0.83       701\n",
      "\n"
     ]
    }
   ],
   "source": [
    "print(classification_report(y_test,ad_pred))"
   ]
  },
  {
   "cell_type": "markdown",
   "id": "82a4f46b",
   "metadata": {},
   "source": [
    "Accuracy droped by 0.01, but as we can see we managed to improve the recall of Logistic Regression by 0.08."
   ]
  },
  {
   "cell_type": "code",
   "execution_count": 213,
   "id": "1cb50c98",
   "metadata": {},
   "outputs": [],
   "source": [
    "from sklearn.model_selection import GridSearchCV"
   ]
  },
  {
   "cell_type": "code",
   "execution_count": 214,
   "id": "6328e5e8",
   "metadata": {},
   "outputs": [],
   "source": [
    "parameters = {'C': np.logspace(-5,5,20), 'multi_class':['ovr'], \n",
    "              'fit_intercept':[True, False], 'solver' :['liblinear','newton-cg','saga','sag', 'lbfgs']}"
   ]
  },
  {
   "cell_type": "code",
   "execution_count": 216,
   "id": "9db4a837",
   "metadata": {},
   "outputs": [],
   "source": [
    "grid_model = GridSearchCV(base,param_grid=parameters,scoring='accuracy')"
   ]
  },
  {
   "cell_type": "code",
   "execution_count": 217,
   "id": "4e97a7ec",
   "metadata": {},
   "outputs": [
    {
     "data": {
      "text/html": [
       "<style>#sk-container-id-7 {color: black;background-color: white;}#sk-container-id-7 pre{padding: 0;}#sk-container-id-7 div.sk-toggleable {background-color: white;}#sk-container-id-7 label.sk-toggleable__label {cursor: pointer;display: block;width: 100%;margin-bottom: 0;padding: 0.3em;box-sizing: border-box;text-align: center;}#sk-container-id-7 label.sk-toggleable__label-arrow:before {content: \"▸\";float: left;margin-right: 0.25em;color: #696969;}#sk-container-id-7 label.sk-toggleable__label-arrow:hover:before {color: black;}#sk-container-id-7 div.sk-estimator:hover label.sk-toggleable__label-arrow:before {color: black;}#sk-container-id-7 div.sk-toggleable__content {max-height: 0;max-width: 0;overflow: hidden;text-align: left;background-color: #f0f8ff;}#sk-container-id-7 div.sk-toggleable__content pre {margin: 0.2em;color: black;border-radius: 0.25em;background-color: #f0f8ff;}#sk-container-id-7 input.sk-toggleable__control:checked~div.sk-toggleable__content {max-height: 200px;max-width: 100%;overflow: auto;}#sk-container-id-7 input.sk-toggleable__control:checked~label.sk-toggleable__label-arrow:before {content: \"▾\";}#sk-container-id-7 div.sk-estimator input.sk-toggleable__control:checked~label.sk-toggleable__label {background-color: #d4ebff;}#sk-container-id-7 div.sk-label input.sk-toggleable__control:checked~label.sk-toggleable__label {background-color: #d4ebff;}#sk-container-id-7 input.sk-hidden--visually {border: 0;clip: rect(1px 1px 1px 1px);clip: rect(1px, 1px, 1px, 1px);height: 1px;margin: -1px;overflow: hidden;padding: 0;position: absolute;width: 1px;}#sk-container-id-7 div.sk-estimator {font-family: monospace;background-color: #f0f8ff;border: 1px dotted black;border-radius: 0.25em;box-sizing: border-box;margin-bottom: 0.5em;}#sk-container-id-7 div.sk-estimator:hover {background-color: #d4ebff;}#sk-container-id-7 div.sk-parallel-item::after {content: \"\";width: 100%;border-bottom: 1px solid gray;flex-grow: 1;}#sk-container-id-7 div.sk-label:hover label.sk-toggleable__label {background-color: #d4ebff;}#sk-container-id-7 div.sk-serial::before {content: \"\";position: absolute;border-left: 1px solid gray;box-sizing: border-box;top: 0;bottom: 0;left: 50%;z-index: 0;}#sk-container-id-7 div.sk-serial {display: flex;flex-direction: column;align-items: center;background-color: white;padding-right: 0.2em;padding-left: 0.2em;position: relative;}#sk-container-id-7 div.sk-item {position: relative;z-index: 1;}#sk-container-id-7 div.sk-parallel {display: flex;align-items: stretch;justify-content: center;background-color: white;position: relative;}#sk-container-id-7 div.sk-item::before, #sk-container-id-7 div.sk-parallel-item::before {content: \"\";position: absolute;border-left: 1px solid gray;box-sizing: border-box;top: 0;bottom: 0;left: 50%;z-index: -1;}#sk-container-id-7 div.sk-parallel-item {display: flex;flex-direction: column;z-index: 1;position: relative;background-color: white;}#sk-container-id-7 div.sk-parallel-item:first-child::after {align-self: flex-end;width: 50%;}#sk-container-id-7 div.sk-parallel-item:last-child::after {align-self: flex-start;width: 50%;}#sk-container-id-7 div.sk-parallel-item:only-child::after {width: 0;}#sk-container-id-7 div.sk-dashed-wrapped {border: 1px dashed gray;margin: 0 0.4em 0.5em 0.4em;box-sizing: border-box;padding-bottom: 0.4em;background-color: white;}#sk-container-id-7 div.sk-label label {font-family: monospace;font-weight: bold;display: inline-block;line-height: 1.2em;}#sk-container-id-7 div.sk-label-container {text-align: center;}#sk-container-id-7 div.sk-container {/* jupyter's `normalize.less` sets `[hidden] { display: none; }` but bootstrap.min.css set `[hidden] { display: none !important; }` so we also need the `!important` here to be able to override the default hidden behavior on the sphinx rendered scikit-learn.org. See: https://github.com/scikit-learn/scikit-learn/issues/21755 */display: inline-block !important;position: relative;}#sk-container-id-7 div.sk-text-repr-fallback {display: none;}</style><div id=\"sk-container-id-7\" class=\"sk-top-container\"><div class=\"sk-text-repr-fallback\"><pre>GridSearchCV(estimator=LogisticRegression(max_iter=4000),\n",
       "             param_grid={&#x27;C&#x27;: array([1.00000000e-05, 3.35981829e-05, 1.12883789e-04, 3.79269019e-04,\n",
       "       1.27427499e-03, 4.28133240e-03, 1.43844989e-02, 4.83293024e-02,\n",
       "       1.62377674e-01, 5.45559478e-01, 1.83298071e+00, 6.15848211e+00,\n",
       "       2.06913808e+01, 6.95192796e+01, 2.33572147e+02, 7.84759970e+02,\n",
       "       2.63665090e+03, 8.85866790e+03, 2.97635144e+04, 1.00000000e+05]),\n",
       "                         &#x27;class_weight&#x27;: [None, &#x27;balanced&#x27;],\n",
       "                         &#x27;fit_intercept&#x27;: [True, False],\n",
       "                         &#x27;multi_class&#x27;: [&#x27;ovr&#x27;, &#x27;multinomial&#x27;],\n",
       "                         &#x27;solver&#x27;: [&#x27;newton-cg&#x27;, &#x27;saga&#x27;, &#x27;sag&#x27;, &#x27;lbfgs&#x27;]},\n",
       "             scoring=&#x27;accuracy&#x27;)</pre><b>In a Jupyter environment, please rerun this cell to show the HTML representation or trust the notebook. <br />On GitHub, the HTML representation is unable to render, please try loading this page with nbviewer.org.</b></div><div class=\"sk-container\" hidden><div class=\"sk-item sk-dashed-wrapped\"><div class=\"sk-label-container\"><div class=\"sk-label sk-toggleable\"><input class=\"sk-toggleable__control sk-hidden--visually\" id=\"sk-estimator-id-15\" type=\"checkbox\" ><label for=\"sk-estimator-id-15\" class=\"sk-toggleable__label sk-toggleable__label-arrow\">GridSearchCV</label><div class=\"sk-toggleable__content\"><pre>GridSearchCV(estimator=LogisticRegression(max_iter=4000),\n",
       "             param_grid={&#x27;C&#x27;: array([1.00000000e-05, 3.35981829e-05, 1.12883789e-04, 3.79269019e-04,\n",
       "       1.27427499e-03, 4.28133240e-03, 1.43844989e-02, 4.83293024e-02,\n",
       "       1.62377674e-01, 5.45559478e-01, 1.83298071e+00, 6.15848211e+00,\n",
       "       2.06913808e+01, 6.95192796e+01, 2.33572147e+02, 7.84759970e+02,\n",
       "       2.63665090e+03, 8.85866790e+03, 2.97635144e+04, 1.00000000e+05]),\n",
       "                         &#x27;class_weight&#x27;: [None, &#x27;balanced&#x27;],\n",
       "                         &#x27;fit_intercept&#x27;: [True, False],\n",
       "                         &#x27;multi_class&#x27;: [&#x27;ovr&#x27;, &#x27;multinomial&#x27;],\n",
       "                         &#x27;solver&#x27;: [&#x27;newton-cg&#x27;, &#x27;saga&#x27;, &#x27;sag&#x27;, &#x27;lbfgs&#x27;]},\n",
       "             scoring=&#x27;accuracy&#x27;)</pre></div></div></div><div class=\"sk-parallel\"><div class=\"sk-parallel-item\"><div class=\"sk-item\"><div class=\"sk-label-container\"><div class=\"sk-label sk-toggleable\"><input class=\"sk-toggleable__control sk-hidden--visually\" id=\"sk-estimator-id-16\" type=\"checkbox\" ><label for=\"sk-estimator-id-16\" class=\"sk-toggleable__label sk-toggleable__label-arrow\">estimator: LogisticRegression</label><div class=\"sk-toggleable__content\"><pre>LogisticRegression(max_iter=4000)</pre></div></div></div><div class=\"sk-serial\"><div class=\"sk-item\"><div class=\"sk-estimator sk-toggleable\"><input class=\"sk-toggleable__control sk-hidden--visually\" id=\"sk-estimator-id-17\" type=\"checkbox\" ><label for=\"sk-estimator-id-17\" class=\"sk-toggleable__label sk-toggleable__label-arrow\">LogisticRegression</label><div class=\"sk-toggleable__content\"><pre>LogisticRegression(max_iter=4000)</pre></div></div></div></div></div></div></div></div></div></div>"
      ],
      "text/plain": [
       "GridSearchCV(estimator=LogisticRegression(max_iter=4000),\n",
       "             param_grid={'C': array([1.00000000e-05, 3.35981829e-05, 1.12883789e-04, 3.79269019e-04,\n",
       "       1.27427499e-03, 4.28133240e-03, 1.43844989e-02, 4.83293024e-02,\n",
       "       1.62377674e-01, 5.45559478e-01, 1.83298071e+00, 6.15848211e+00,\n",
       "       2.06913808e+01, 6.95192796e+01, 2.33572147e+02, 7.84759970e+02,\n",
       "       2.63665090e+03, 8.85866790e+03, 2.97635144e+04, 1.00000000e+05]),\n",
       "                         'class_weight': [None, 'balanced'],\n",
       "                         'fit_intercept': [True, False],\n",
       "                         'multi_class': ['ovr', 'multinomial'],\n",
       "                         'solver': ['newton-cg', 'saga', 'sag', 'lbfgs']},\n",
       "             scoring='accuracy')"
      ]
     },
     "execution_count": 217,
     "metadata": {},
     "output_type": "execute_result"
    }
   ],
   "source": [
    "grid_model.fit(scaled_X_res,y_res)"
   ]
  },
  {
   "cell_type": "code",
   "execution_count": 218,
   "id": "a81ed98b",
   "metadata": {},
   "outputs": [
    {
     "data": {
      "text/plain": [
       "{'C': 6.1584821106602545,\n",
       " 'class_weight': 'balanced',\n",
       " 'fit_intercept': True,\n",
       " 'multi_class': 'ovr',\n",
       " 'solver': 'newton-cg'}"
      ]
     },
     "execution_count": 218,
     "metadata": {},
     "output_type": "execute_result"
    }
   ],
   "source": [
    "grid_model.best_params_"
   ]
  },
  {
   "cell_type": "code",
   "execution_count": 219,
   "id": "c2cc0167",
   "metadata": {},
   "outputs": [],
   "source": [
    "grid_pred = grid_model.predict(scaled_X_test)"
   ]
  },
  {
   "cell_type": "code",
   "execution_count": 220,
   "id": "c7e7b8f3",
   "metadata": {},
   "outputs": [
    {
     "data": {
      "text/plain": [
       "<sklearn.metrics._plot.confusion_matrix.ConfusionMatrixDisplay at 0xb417cc8a60>"
      ]
     },
     "execution_count": 220,
     "metadata": {},
     "output_type": "execute_result"
    },
    {
     "data": {
      "image/png": "[encoded data removed]",
      "text/plain": [
       "<Figure size 640x480 with 2 Axes>"
      ]
     },
     "metadata": {},
     "output_type": "display_data"
    }
   ],
   "source": [
    "cm = confusion_matrix(y_test,grid_pred)\n",
    "disp = ConfusionMatrixDisplay(cm)\n",
    "disp.plot()"
   ]
  },
  {
   "cell_type": "code",
   "execution_count": 221,
   "id": "ec344aab",
   "metadata": {},
   "outputs": [
    {
     "name": "stdout",
     "output_type": "stream",
     "text": [
      "              precision    recall  f1-score   support\n",
      "\n",
      "           0       0.88      0.91      0.89       519\n",
      "           1       0.71      0.64      0.67       182\n",
      "\n",
      "    accuracy                           0.84       701\n",
      "   macro avg       0.79      0.77      0.78       701\n",
      "weighted avg       0.83      0.84      0.83       701\n",
      "\n"
     ]
    }
   ],
   "source": [
    "print(classification_report(y_test,grid_pred))"
   ]
  },
  {
   "cell_type": "code",
   "execution_count": null,
   "id": "3024ac01",
   "metadata": {},
   "outputs": [],
   "source": []
  }
 ],
 "metadata": {
  "kernelspec": {
   "display_name": "Python 3 (ipykernel)",
   "language": "python",
   "name": "python3"
  },
  "language_info": {
   "codemirror_mode": {
    "name": "ipython",
    "version": 3
   },
   "file_extension": ".py",
   "mimetype": "text/x-python",
   "name": "python",
   "nbconvert_exporter": "python",
   "pygments_lexer": "ipython3",
   "version": "3.9.13"
  }
 },
 "nbformat": 4,
 "nbformat_minor": 5
}
